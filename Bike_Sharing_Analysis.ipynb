{
 "cells": [
  {
   "cell_type": "markdown",
   "metadata": {},
   "source": [
    "# Partie 1: Compréhension du métier (Business Understanding)\n"
   ]
  },
  {
   "cell_type": "markdown",
   "metadata": {},
   "source": [
    "### 1.1 Description du métier\n",
    "Le dataset représente un système de location de vélos à Washington D.C., où les utilisateurs peuvent louer et rendre des vélos à différents points. Des facteurs environnementaux et contextuels comme la saison, la météo, et les jours fériés influencent le comportement de location.\n",
    "\n",
    "### 1.2 Problématique\n",
    "Prédire le nombre de vélos loués en fonction des conditions environnementales et calendaires.\n",
    "\n",
    "### 1.3 Objectifs métier et objectifs de science des données\n",
    "\n",
    "| **Business Objective (BO)** | **Data Science Objective (DSO)** |\n",
    "|-----------------------------|----------------------------------|\n",
    "| **BO1**: Optimiser la gestion des vélos disponibles en fonction de l'environnement et des infrastructures pour anticiper la demande. | **DSO1**: Utiliser les nouvelles variables (infrastructures de vélo, accessibilité des transports publics, zone d’utilisation, pollution de l’air) pour prédire le nombre de locations de vélos. |\n",
    "| **BO2**: Planifier la maintenance des vélos selon l'utilisation par segment d'utilisateurs et améliorer la satisfaction. | **DSO2**: Identifier les niveaux d'activité des utilisateurs et leurs habitudes (`user_activity_level`, `user_satisfaction`) pour ajuster la maintenance et améliorer la qualité du service. |\n",
    "| **BO3**: Analyser l'impact des facteurs socio-économiques et environnementaux sur la location de vélos. | **DSO3**: Modéliser la relation entre le **niveau de revenu**, l'**indice de pollution**, et d'autres variables socio-économiques (`income_level`, `air_pollution_index`, `public_transport_access`) sur l'utilisation des vélos. |\n"
   ]
  },
  {
   "cell_type": "markdown",
   "metadata": {},
   "source": [
    "# Partie 2: Compréhension des données (Data Understanding)\n"
   ]
  },
  {
   "cell_type": "markdown",
   "metadata": {},
   "source": [
    "## 2.1 Importer les données\n"
   ]
  },
  {
   "cell_type": "code",
   "execution_count": 1,
   "metadata": {},
   "outputs": [],
   "source": [
    "import pandas as pd\n",
    "data = pd.read_csv('datahour.csv') \n",
    "\n"
   ]
  },
  {
   "cell_type": "markdown",
   "metadata": {},
   "source": [
    "## 2.2 Description des Variables du Dataset Bike Sharing (version init)\n"
   ]
  },
  {
   "cell_type": "markdown",
   "metadata": {},
   "source": [
    "\n",
    "| **Nom de la variable** | **Description** |\n",
    "|------------------------|-----------------|\n",
    "| **Instant**            | Identificateur unique pour chaque enregistrement. |\n",
    "| **dteday**             | Date précise de la location des vélos. |\n",
    "| **season**             | Saison de l'année, codée de 1 à 4 (1: printemps, 2: été, 3: automne, 4: hiver). |\n",
    "| **yr**                 | Année (0 pour 2011, 1 pour 2012). |\n",
    "| **mnth**               | Mois de l'année (1 à 12). |\n",
    "| **hr**                 | Heure de la journée (0 à 23). |\n",
    "| **holiday**            | Indique si le jour est un jour férié (0 : non, 1 : oui). |\n",
    "| **weekday**            | Jour de la semaine (0 pour dimanche, 6 pour samedi). |\n",
    "| **workingday**         | Indique si le jour est un jour ouvrable (ni week-end, ni jour férié). |\n",
    "| **weathersit**         | Situation météorologique : <br> 1: Clair, partiellement nuageux <br> 2: Brume + nuages <br> 3: Pluie légère, neige légère <br> 4: Fortes précipitations. |\n",
    "| **temp**               | Température normalisée (valeurs divisées par 41°C, max possible). |\n",
    "| **atemp**              | Température ressentie normalisée (valeurs divisées par 50°C, max possible). |\n",
    "| **hum**                | Humidité relative normalisée (valeurs divisées par 100, max possible). |\n",
    "| **windspeed**          | Vitesse du vent normalisée (valeurs divisées par 67, max possible). |\n",
    "| **casual**             | Nombre de locations par des utilisateurs occasionnels. |\n",
    "| **registered**         | Nombre de locations par des utilisateurs enregistrés. |\n",
    "| **cnt**                | Nombre total de vélos loués (inclus utilisateurs occasionnels et enregistrés). |"
   ]
  },
  {
   "cell_type": "markdown",
   "metadata": {},
   "source": [
    "### Remarque : \n",
    "Le dataset contient initialement des données temporelles telles que : `dteday` (date), `season` (saison), `yr` (année), `mnth` (mois), `hr` (heure), `holiday` (jour férié), `weekday` (jour de la semaine), et `workingday` (jour ouvré). Ces colonnes seront remplacées par d'autres variables non temporelles simulées afin d'enrichir le dataset avec des informations contextuelles et socio-économiques.\n"
   ]
  },
  {
   "cell_type": "markdown",
   "metadata": {},
   "source": [
    "### Correction du Dataset :\n",
    "\n",
    "1. **Supprimer les colonnes temporelles** :\n",
    "   Les colonnes suivantes, liées au temps, seront supprimées du dataset :\n",
    "   - `dteday` (date)\n",
    "   - `season` (saison)\n",
    "   - `yr` (année)\n",
    "   - `mnth` (mois)\n",
    "   - `hr` (heure)\n",
    "   - `holiday` (jour férié)\n",
    "   - `weekday` (jour de la semaine)\n",
    "   - `workingday` (jour ouvré)\n",
    "\n",
    "2. **Remplacer par d'autres colonnes non temporelles** :\n",
    "   Afin d'enrichir le dataset, les colonnes supprimées seront remplacées par des variables non temporelles simulées :\n",
    "   - `user_activity_level` : Niveau d'activité des utilisateurs (faible, moyen, élevé)\n",
    "   - `user_type` : Type d'utilisateur (occasionnel ou fréquent)\n",
    "   - `income_level` : Niveau de revenu moyen des utilisateurs (entre 20 000 et 100 000)\n",
    "   - `zone_type` : Type de zone (résidentiel ou commercial)\n",
    "   - `user_satisfaction` : Indice de satisfaction des utilisateurs (entre 1 et 5)\n",
    "   - `bike_infrastructure_score` : Score de l'infrastructure cyclable (entre 1 et 10)\n",
    "   - `air_pollution_index` : Indice de pollution de l'air (entre 1 et 100)\n",
    "   - `public_transport_access` : Accessibilité des transports publics (entre 1 et 10)\n",
    "\n",
    "Ces nouvelles colonnes ajoutent des informations contextuelles, socio-économiques et environnementales afin de mieux modéliser la demande de vélos.\n"
   ]
  },
  {
   "cell_type": "code",
   "execution_count": 2,
   "metadata": {},
   "outputs": [
    {
     "name": "stdout",
     "output_type": "stream",
     "text": [
      "Colonnes existantes: ['instant', 'dteday', 'season', 'yr', 'mnth', 'hr', 'holiday', 'weekday', 'workingday', 'weathersit', 'temp', 'atemp', 'hum', 'windspeed', 'casual', 'registered', 'cnt']\n"
     ]
    }
   ],
   "source": [
    "# Afficher les colonnes existantes\n",
    "print(\"Colonnes existantes:\", data.columns.tolist())\n",
    "\n",
    "# Supprimer les colonnes uniquement si elles existent\n",
    "columns_to_drop = ['dteday', 'season', 'year', 'month', 'hr', 'holiday', 'day_of_week', 'workingday']\n",
    "existing_columns = [col for col in columns_to_drop if col in data.columns]\n",
    "\n",
    "if existing_columns:\n",
    "    data = data.drop(columns=existing_columns,inplace=False)\n",
    "else:\n",
    "    print(\"Aucune colonne à supprimer.\")\n"
   ]
  },
  {
   "cell_type": "code",
   "execution_count": 3,
   "metadata": {},
   "outputs": [],
   "source": [
    "import pandas as pd\n",
    "import numpy as np\n",
    "\n",
    "# 1. Ajout d'une colonne simulée pour le niveau d'activité des utilisateurs\n",
    "data['user_activity_level'] = np.random.choice(['faible', 'moyen', 'élevé'], size=len(data))\n",
    "\n",
    "# 2. Ajout d'une colonne simulée pour le type d'utilisateur (occasionnel ou fréquent)\n",
    "data['user_type'] = np.random.choice(['occasionnel', 'frequent'], size=len(data))\n",
    "\n",
    "# 3. Ajout d'une colonne simulée pour le niveau de revenu (par exemple, entre 20000 et 100000 unités monétaires)\n",
    "data['income_level'] = np.random.randint(20000, 100000, size=len(data))\n",
    "\n",
    "# 4. Ajout d'une colonne simulée pour le type de zone (résidentiel ou commercial)\n",
    "data['zone_type'] = np.random.choice(['residentiel', 'commercial'], size=len(data))\n",
    "\n",
    "# 5. Ajout d'une colonne simulée pour l'indice de satisfaction des utilisateurs (entre 1 et 5)\n",
    "data['user_satisfaction'] = np.random.randint(1, 6, size=len(data))  # Valeurs entières entre 1 (faible) et 5 (élevé)\n",
    "\n",
    "# 6. Ajout d'une colonne simulée pour le nombre d'infrastructures de vélo dans la zone\n",
    "data['bike_infrastructure_score'] = np.random.randint(1, 11, size=len(data))  # Valeur entre 1 et 10\n",
    "\n",
    "# 7. Ajout d'une colonne simulée pour le niveau de pollution atmosphérique (entre 1 et 100)\n",
    "data['air_pollution_index'] = np.random.randint(1, 101, size=len(data))  # Valeur entre 1 (faible pollution) et 100 (haute pollution)\n",
    "\n",
    "# 8. Ajout d'une colonne simulée pour l'accessibilité des transports publics (entre 1 et 10)\n",
    "data['public_transport_access'] = np.random.randint(1, 11, size=len(data))  # Valeur entre 1 (faible accessibilité) et 10 (excellente accessibilité)\n",
    "\n",
    "data.to_csv('datahour_v1.csv', index=False)  # Sauvegarde sans l'index\n",
    "\n",
    "\n"
   ]
  },
  {
   "cell_type": "markdown",
   "metadata": {},
   "source": [
    "## 2.2 Description des Variables du Dataset Bike Sharing (version 1)\n"
   ]
  },
  {
   "cell_type": "markdown",
   "metadata": {},
   "source": [
    "| **Nom de la Variable**              | **Description**                                                                                   | **Type de Donnée**   | **Plage de Valeurs**                       |\n",
    "|-------------------------------------|---------------------------------------------------------------------------------------------------|----------------------|--------------------------------------------|\n",
    "| `Instant`                           | Identificateur unique pour chaque enregistrement                                                 | Numérique            | 1, 2, 3, ... (identifiants uniques)       |\n",
    "| `temp`                              | Température normalisée (valeurs divisées par 41°C, max possible)                                | Numérique            | entre 0 et 1                               |\n",
    "| `atemp`                             | Température ressentie normalisée (valeurs divisées par 50°C, max possible)                     | Numérique            | entre 0 et 1                               |\n",
    "| `hum`                               | Humidité relative normalisée (valeurs divisées par 100, max possible)                           | Numérique            | entre 0 et 1                               |\n",
    "| `windspeed`                         | Vitesse du vent normalisée (valeurs divisées par 67, max possible)                             | Numérique            | entre 0 et 1                               |\n",
    "| `casual`                            | Nombre de locations par des utilisateurs occasionnels                                             | Numérique            | 0 et plus                                  |\n",
    "| `registered`                        | Nombre de locations par des utilisateurs enregistrés                                             | Numérique            | 0 et plus                                  |\n",
    "| `cnt`                               | Nombre total de vélos loués (inclus utilisateurs occasionnels et enregistrés)                   | Numérique            | 0 et plus                                  |\n",
    "| `user_activity_level`               | Niveau d'activité des utilisateurs (faible, moyen, élevé)                                       | Catégorique          | faible, moyen, élevé                       |\n",
    "| `user_type`                         | Type d'utilisateur (occasionnel ou fréquent)                                                    | Catégorique          | occasionnel, fréquent                      |\n",
    "| `income_level`                      | Niveau de revenu moyen des utilisateurs                                                          | Numérique            | entre 20 000 et 100 000                   |\n",
    "| `zone_type`                        | Type de zone (résidentiel ou commercial)                                                        | Catégorique          | résidentiel, commercial                    |\n",
    "| `user_satisfaction`                | Indice de satisfaction des utilisateurs                                                           | Numérique            | entre 1 et 5                               |\n",
    "| `bike_infrastructure_score`         | Score de l'infrastructure cyclable                                                                | Numérique            | entre 1 et 10                              |\n",
    "| `air_pollution_index`              | Indice de pollution de l'air                                                                      | Numérique            | entre 1 et 100                             |\n",
    "| `public_transport_access`           | Accessibilité des transports publics                                                               | Numérique            | entre 1 et 10                              |\n",
    "| `weathersit`                       | Situation météorologique : <br> 1: Clair, partiellement nuageux <br> 2: Brume + nuages <br> 3: Pluie légère, neige légère <br> 4: Fortes précipitations | Numérique (Catégorique)          | 1, 2, 3, 4                                 |\n"
   ]
  },
  {
   "cell_type": "markdown",
   "metadata": {},
   "source": [
    "## 2.3 Dimensions des données\n"
   ]
  },
  {
   "cell_type": "code",
   "execution_count": 4,
   "metadata": {},
   "outputs": [
    {
     "name": "stdout",
     "output_type": "stream",
     "text": [
      "Dimensions des données: (Nbr lignes, Nbr colonnes) (17484, 20)\n"
     ]
    }
   ],
   "source": [
    "import pandas as pd\n",
    "\n",
    "data = pd.read_csv('datahour_v1.csv') \n",
    "print(\"Dimensions des données: (Nbr lignes, Nbr colonnes)\", data.shape)\n"
   ]
  },
  {
   "cell_type": "markdown",
   "metadata": {},
   "source": [
    "## 2.4 Afficher les premières lignes\n"
   ]
  },
  {
   "cell_type": "code",
   "execution_count": 5,
   "metadata": {},
   "outputs": [
    {
     "data": {
      "text/html": [
       "<div>\n",
       "<style scoped>\n",
       "    .dataframe tbody tr th:only-of-type {\n",
       "        vertical-align: middle;\n",
       "    }\n",
       "\n",
       "    .dataframe tbody tr th {\n",
       "        vertical-align: top;\n",
       "    }\n",
       "\n",
       "    .dataframe thead th {\n",
       "        text-align: right;\n",
       "    }\n",
       "</style>\n",
       "<table border=\"1\" class=\"dataframe\">\n",
       "  <thead>\n",
       "    <tr style=\"text-align: right;\">\n",
       "      <th></th>\n",
       "      <th>instant</th>\n",
       "      <th>yr</th>\n",
       "      <th>mnth</th>\n",
       "      <th>weekday</th>\n",
       "      <th>weathersit</th>\n",
       "      <th>temp</th>\n",
       "      <th>atemp</th>\n",
       "      <th>hum</th>\n",
       "      <th>windspeed</th>\n",
       "      <th>casual</th>\n",
       "      <th>registered</th>\n",
       "      <th>cnt</th>\n",
       "      <th>user_activity_level</th>\n",
       "      <th>user_type</th>\n",
       "      <th>income_level</th>\n",
       "      <th>zone_type</th>\n",
       "      <th>user_satisfaction</th>\n",
       "      <th>bike_infrastructure_score</th>\n",
       "      <th>air_pollution_index</th>\n",
       "      <th>public_transport_access</th>\n",
       "    </tr>\n",
       "  </thead>\n",
       "  <tbody>\n",
       "    <tr>\n",
       "      <th>0</th>\n",
       "      <td>1.0</td>\n",
       "      <td>0.0</td>\n",
       "      <td>1.0</td>\n",
       "      <td>6.0</td>\n",
       "      <td>1.0</td>\n",
       "      <td>0.24</td>\n",
       "      <td>0.2879</td>\n",
       "      <td>0.81</td>\n",
       "      <td>0.0</td>\n",
       "      <td>3.0</td>\n",
       "      <td>13.0</td>\n",
       "      <td>16.0</td>\n",
       "      <td>moyen</td>\n",
       "      <td>occasionnel</td>\n",
       "      <td>60975</td>\n",
       "      <td>residentiel</td>\n",
       "      <td>3</td>\n",
       "      <td>4</td>\n",
       "      <td>82</td>\n",
       "      <td>8</td>\n",
       "    </tr>\n",
       "    <tr>\n",
       "      <th>1</th>\n",
       "      <td>2.0</td>\n",
       "      <td>0.0</td>\n",
       "      <td>1.0</td>\n",
       "      <td>6.0</td>\n",
       "      <td>1.0</td>\n",
       "      <td>0.22</td>\n",
       "      <td>0.2727</td>\n",
       "      <td>0.80</td>\n",
       "      <td>0.0</td>\n",
       "      <td>8.0</td>\n",
       "      <td>32.0</td>\n",
       "      <td>40.0</td>\n",
       "      <td>élevé</td>\n",
       "      <td>occasionnel</td>\n",
       "      <td>66100</td>\n",
       "      <td>residentiel</td>\n",
       "      <td>3</td>\n",
       "      <td>6</td>\n",
       "      <td>95</td>\n",
       "      <td>4</td>\n",
       "    </tr>\n",
       "    <tr>\n",
       "      <th>2</th>\n",
       "      <td>3.0</td>\n",
       "      <td>0.0</td>\n",
       "      <td>1.0</td>\n",
       "      <td>6.0</td>\n",
       "      <td>1.0</td>\n",
       "      <td>0.22</td>\n",
       "      <td>0.2727</td>\n",
       "      <td>0.80</td>\n",
       "      <td>0.0</td>\n",
       "      <td>5.0</td>\n",
       "      <td>27.0</td>\n",
       "      <td>32.0</td>\n",
       "      <td>faible</td>\n",
       "      <td>occasionnel</td>\n",
       "      <td>89470</td>\n",
       "      <td>commercial</td>\n",
       "      <td>4</td>\n",
       "      <td>6</td>\n",
       "      <td>55</td>\n",
       "      <td>2</td>\n",
       "    </tr>\n",
       "    <tr>\n",
       "      <th>3</th>\n",
       "      <td>4.0</td>\n",
       "      <td>0.0</td>\n",
       "      <td>1.0</td>\n",
       "      <td>6.0</td>\n",
       "      <td>1.0</td>\n",
       "      <td>0.24</td>\n",
       "      <td>0.2879</td>\n",
       "      <td>0.75</td>\n",
       "      <td>0.0</td>\n",
       "      <td>3.0</td>\n",
       "      <td>10.0</td>\n",
       "      <td>13.0</td>\n",
       "      <td>élevé</td>\n",
       "      <td>frequent</td>\n",
       "      <td>29806</td>\n",
       "      <td>residentiel</td>\n",
       "      <td>1</td>\n",
       "      <td>5</td>\n",
       "      <td>15</td>\n",
       "      <td>6</td>\n",
       "    </tr>\n",
       "    <tr>\n",
       "      <th>4</th>\n",
       "      <td>5.0</td>\n",
       "      <td>0.0</td>\n",
       "      <td>1.0</td>\n",
       "      <td>6.0</td>\n",
       "      <td>1.0</td>\n",
       "      <td>0.24</td>\n",
       "      <td>0.2879</td>\n",
       "      <td>0.75</td>\n",
       "      <td>0.0</td>\n",
       "      <td>0.0</td>\n",
       "      <td>1.0</td>\n",
       "      <td>1.0</td>\n",
       "      <td>élevé</td>\n",
       "      <td>frequent</td>\n",
       "      <td>53531</td>\n",
       "      <td>commercial</td>\n",
       "      <td>4</td>\n",
       "      <td>4</td>\n",
       "      <td>40</td>\n",
       "      <td>4</td>\n",
       "    </tr>\n",
       "  </tbody>\n",
       "</table>\n",
       "</div>"
      ],
      "text/plain": [
       "   instant   yr  mnth  weekday  weathersit  temp   atemp   hum  windspeed  \\\n",
       "0      1.0  0.0   1.0      6.0         1.0  0.24  0.2879  0.81        0.0   \n",
       "1      2.0  0.0   1.0      6.0         1.0  0.22  0.2727  0.80        0.0   \n",
       "2      3.0  0.0   1.0      6.0         1.0  0.22  0.2727  0.80        0.0   \n",
       "3      4.0  0.0   1.0      6.0         1.0  0.24  0.2879  0.75        0.0   \n",
       "4      5.0  0.0   1.0      6.0         1.0  0.24  0.2879  0.75        0.0   \n",
       "\n",
       "   casual  registered   cnt user_activity_level    user_type  income_level  \\\n",
       "0     3.0        13.0  16.0               moyen  occasionnel         60975   \n",
       "1     8.0        32.0  40.0               élevé  occasionnel         66100   \n",
       "2     5.0        27.0  32.0              faible  occasionnel         89470   \n",
       "3     3.0        10.0  13.0               élevé     frequent         29806   \n",
       "4     0.0         1.0   1.0               élevé     frequent         53531   \n",
       "\n",
       "     zone_type  user_satisfaction  bike_infrastructure_score  \\\n",
       "0  residentiel                  3                          4   \n",
       "1  residentiel                  3                          6   \n",
       "2   commercial                  4                          6   \n",
       "3  residentiel                  1                          5   \n",
       "4   commercial                  4                          4   \n",
       "\n",
       "   air_pollution_index  public_transport_access  \n",
       "0                   82                        8  \n",
       "1                   95                        4  \n",
       "2                   55                        2  \n",
       "3                   15                        6  \n",
       "4                   40                        4  "
      ]
     },
     "execution_count": 5,
     "metadata": {},
     "output_type": "execute_result"
    }
   ],
   "source": [
    "data.head()\n"
   ]
  },
  {
   "cell_type": "markdown",
   "metadata": {},
   "source": [
    "## 2.5 Afficher les dernières lignes"
   ]
  },
  {
   "cell_type": "code",
   "execution_count": 6,
   "metadata": {},
   "outputs": [
    {
     "data": {
      "text/html": [
       "<div>\n",
       "<style scoped>\n",
       "    .dataframe tbody tr th:only-of-type {\n",
       "        vertical-align: middle;\n",
       "    }\n",
       "\n",
       "    .dataframe tbody tr th {\n",
       "        vertical-align: top;\n",
       "    }\n",
       "\n",
       "    .dataframe thead th {\n",
       "        text-align: right;\n",
       "    }\n",
       "</style>\n",
       "<table border=\"1\" class=\"dataframe\">\n",
       "  <thead>\n",
       "    <tr style=\"text-align: right;\">\n",
       "      <th></th>\n",
       "      <th>instant</th>\n",
       "      <th>yr</th>\n",
       "      <th>mnth</th>\n",
       "      <th>weekday</th>\n",
       "      <th>weathersit</th>\n",
       "      <th>temp</th>\n",
       "      <th>atemp</th>\n",
       "      <th>hum</th>\n",
       "      <th>windspeed</th>\n",
       "      <th>casual</th>\n",
       "      <th>registered</th>\n",
       "      <th>cnt</th>\n",
       "      <th>user_activity_level</th>\n",
       "      <th>user_type</th>\n",
       "      <th>income_level</th>\n",
       "      <th>zone_type</th>\n",
       "      <th>user_satisfaction</th>\n",
       "      <th>bike_infrastructure_score</th>\n",
       "      <th>air_pollution_index</th>\n",
       "      <th>public_transport_access</th>\n",
       "    </tr>\n",
       "  </thead>\n",
       "  <tbody>\n",
       "    <tr>\n",
       "      <th>17479</th>\n",
       "      <td>10799.0</td>\n",
       "      <td>1.0</td>\n",
       "      <td>3.0</td>\n",
       "      <td>6.0</td>\n",
       "      <td>2.0</td>\n",
       "      <td>0.40</td>\n",
       "      <td>0.4091</td>\n",
       "      <td>0.76</td>\n",
       "      <td>0.1940</td>\n",
       "      <td>17.0</td>\n",
       "      <td>65.0</td>\n",
       "      <td>82.0</td>\n",
       "      <td>élevé</td>\n",
       "      <td>occasionnel</td>\n",
       "      <td>95179</td>\n",
       "      <td>commercial</td>\n",
       "      <td>3</td>\n",
       "      <td>8</td>\n",
       "      <td>38</td>\n",
       "      <td>10</td>\n",
       "    </tr>\n",
       "    <tr>\n",
       "      <th>17480</th>\n",
       "      <td>8080.0</td>\n",
       "      <td>0.0</td>\n",
       "      <td>12.0</td>\n",
       "      <td>4.0</td>\n",
       "      <td>1.0</td>\n",
       "      <td>0.22</td>\n",
       "      <td>0.2121</td>\n",
       "      <td>0.60</td>\n",
       "      <td>0.2239</td>\n",
       "      <td>11.0</td>\n",
       "      <td>233.0</td>\n",
       "      <td>244.0</td>\n",
       "      <td>faible</td>\n",
       "      <td>frequent</td>\n",
       "      <td>36389</td>\n",
       "      <td>commercial</td>\n",
       "      <td>5</td>\n",
       "      <td>7</td>\n",
       "      <td>38</td>\n",
       "      <td>1</td>\n",
       "    </tr>\n",
       "    <tr>\n",
       "      <th>17481</th>\n",
       "      <td>4055.0</td>\n",
       "      <td>0.0</td>\n",
       "      <td>6.0</td>\n",
       "      <td>3.0</td>\n",
       "      <td>1.0</td>\n",
       "      <td>0.74</td>\n",
       "      <td>0.7121</td>\n",
       "      <td>0.74</td>\n",
       "      <td>0.1343</td>\n",
       "      <td>NaN</td>\n",
       "      <td>230.0</td>\n",
       "      <td>282.0</td>\n",
       "      <td>moyen</td>\n",
       "      <td>frequent</td>\n",
       "      <td>22312</td>\n",
       "      <td>residentiel</td>\n",
       "      <td>4</td>\n",
       "      <td>3</td>\n",
       "      <td>84</td>\n",
       "      <td>7</td>\n",
       "    </tr>\n",
       "    <tr>\n",
       "      <th>17482</th>\n",
       "      <td>NaN</td>\n",
       "      <td>1.0</td>\n",
       "      <td>8.0</td>\n",
       "      <td>3.0</td>\n",
       "      <td>1.0</td>\n",
       "      <td>0.76</td>\n",
       "      <td>0.6818</td>\n",
       "      <td>0.48</td>\n",
       "      <td>0.1940</td>\n",
       "      <td>91.0</td>\n",
       "      <td>340.0</td>\n",
       "      <td>431.0</td>\n",
       "      <td>élevé</td>\n",
       "      <td>occasionnel</td>\n",
       "      <td>97987</td>\n",
       "      <td>commercial</td>\n",
       "      <td>3</td>\n",
       "      <td>3</td>\n",
       "      <td>16</td>\n",
       "      <td>4</td>\n",
       "    </tr>\n",
       "    <tr>\n",
       "      <th>17483</th>\n",
       "      <td>4504.0</td>\n",
       "      <td>0.0</td>\n",
       "      <td>7.0</td>\n",
       "      <td>1.0</td>\n",
       "      <td>1.0</td>\n",
       "      <td>0.86</td>\n",
       "      <td>0.8182</td>\n",
       "      <td>0.50</td>\n",
       "      <td>0.2537</td>\n",
       "      <td>22.0</td>\n",
       "      <td>119.0</td>\n",
       "      <td>141.0</td>\n",
       "      <td>moyen</td>\n",
       "      <td>occasionnel</td>\n",
       "      <td>21604</td>\n",
       "      <td>residentiel</td>\n",
       "      <td>1</td>\n",
       "      <td>8</td>\n",
       "      <td>87</td>\n",
       "      <td>1</td>\n",
       "    </tr>\n",
       "  </tbody>\n",
       "</table>\n",
       "</div>"
      ],
      "text/plain": [
       "       instant   yr  mnth  weekday  weathersit  temp   atemp   hum  windspeed  \\\n",
       "17479  10799.0  1.0   3.0      6.0         2.0  0.40  0.4091  0.76     0.1940   \n",
       "17480   8080.0  0.0  12.0      4.0         1.0  0.22  0.2121  0.60     0.2239   \n",
       "17481   4055.0  0.0   6.0      3.0         1.0  0.74  0.7121  0.74     0.1343   \n",
       "17482      NaN  1.0   8.0      3.0         1.0  0.76  0.6818  0.48     0.1940   \n",
       "17483   4504.0  0.0   7.0      1.0         1.0  0.86  0.8182  0.50     0.2537   \n",
       "\n",
       "       casual  registered    cnt user_activity_level    user_type  \\\n",
       "17479    17.0        65.0   82.0               élevé  occasionnel   \n",
       "17480    11.0       233.0  244.0              faible     frequent   \n",
       "17481     NaN       230.0  282.0               moyen     frequent   \n",
       "17482    91.0       340.0  431.0               élevé  occasionnel   \n",
       "17483    22.0       119.0  141.0               moyen  occasionnel   \n",
       "\n",
       "       income_level    zone_type  user_satisfaction  \\\n",
       "17479         95179   commercial                  3   \n",
       "17480         36389   commercial                  5   \n",
       "17481         22312  residentiel                  4   \n",
       "17482         97987   commercial                  3   \n",
       "17483         21604  residentiel                  1   \n",
       "\n",
       "       bike_infrastructure_score  air_pollution_index  public_transport_access  \n",
       "17479                          8                   38                       10  \n",
       "17480                          7                   38                        1  \n",
       "17481                          3                   84                        7  \n",
       "17482                          3                   16                        4  \n",
       "17483                          8                   87                        1  "
      ]
     },
     "execution_count": 6,
     "metadata": {},
     "output_type": "execute_result"
    }
   ],
   "source": [
    "data.tail()"
   ]
  },
  {
   "cell_type": "markdown",
   "metadata": {},
   "source": [
    "## 2.6 Statistiques descriptives des colonnes"
   ]
  },
  {
   "cell_type": "code",
   "execution_count": 7,
   "metadata": {},
   "outputs": [
    {
     "data": {
      "text/html": [
       "<div>\n",
       "<style scoped>\n",
       "    .dataframe tbody tr th:only-of-type {\n",
       "        vertical-align: middle;\n",
       "    }\n",
       "\n",
       "    .dataframe tbody tr th {\n",
       "        vertical-align: top;\n",
       "    }\n",
       "\n",
       "    .dataframe thead th {\n",
       "        text-align: right;\n",
       "    }\n",
       "</style>\n",
       "<table border=\"1\" class=\"dataframe\">\n",
       "  <thead>\n",
       "    <tr style=\"text-align: right;\">\n",
       "      <th></th>\n",
       "      <th>instant</th>\n",
       "      <th>yr</th>\n",
       "      <th>mnth</th>\n",
       "      <th>weekday</th>\n",
       "      <th>weathersit</th>\n",
       "      <th>temp</th>\n",
       "      <th>atemp</th>\n",
       "      <th>hum</th>\n",
       "      <th>windspeed</th>\n",
       "      <th>casual</th>\n",
       "      <th>registered</th>\n",
       "      <th>cnt</th>\n",
       "      <th>income_level</th>\n",
       "      <th>user_satisfaction</th>\n",
       "      <th>bike_infrastructure_score</th>\n",
       "      <th>air_pollution_index</th>\n",
       "      <th>public_transport_access</th>\n",
       "    </tr>\n",
       "  </thead>\n",
       "  <tbody>\n",
       "    <tr>\n",
       "      <th>count</th>\n",
       "      <td>17131.000000</td>\n",
       "      <td>17141.000000</td>\n",
       "      <td>17151.000000</td>\n",
       "      <td>17130.000000</td>\n",
       "      <td>17130.000000</td>\n",
       "      <td>17152.000000</td>\n",
       "      <td>17118.000000</td>\n",
       "      <td>17169.000000</td>\n",
       "      <td>17146.000000</td>\n",
       "      <td>17127.000000</td>\n",
       "      <td>17168.000000</td>\n",
       "      <td>17129.000000</td>\n",
       "      <td>17484.000000</td>\n",
       "      <td>17484.000000</td>\n",
       "      <td>17484.000000</td>\n",
       "      <td>17484.000000</td>\n",
       "      <td>17484.000000</td>\n",
       "    </tr>\n",
       "    <tr>\n",
       "      <th>mean</th>\n",
       "      <td>8678.806666</td>\n",
       "      <td>0.502596</td>\n",
       "      <td>6.540493</td>\n",
       "      <td>3.000817</td>\n",
       "      <td>1.425803</td>\n",
       "      <td>0.497385</td>\n",
       "      <td>0.476085</td>\n",
       "      <td>0.626772</td>\n",
       "      <td>0.190063</td>\n",
       "      <td>35.624394</td>\n",
       "      <td>153.424569</td>\n",
       "      <td>189.441065</td>\n",
       "      <td>59838.426905</td>\n",
       "      <td>2.993137</td>\n",
       "      <td>5.472260</td>\n",
       "      <td>50.346831</td>\n",
       "      <td>5.499485</td>\n",
       "    </tr>\n",
       "    <tr>\n",
       "      <th>std</th>\n",
       "      <td>5013.504186</td>\n",
       "      <td>0.500008</td>\n",
       "      <td>3.438079</td>\n",
       "      <td>2.006237</td>\n",
       "      <td>0.639642</td>\n",
       "      <td>0.192669</td>\n",
       "      <td>0.171818</td>\n",
       "      <td>0.192674</td>\n",
       "      <td>0.122163</td>\n",
       "      <td>49.201808</td>\n",
       "      <td>150.831175</td>\n",
       "      <td>181.268088</td>\n",
       "      <td>23034.371285</td>\n",
       "      <td>1.410755</td>\n",
       "      <td>2.866409</td>\n",
       "      <td>28.811067</td>\n",
       "      <td>2.863608</td>\n",
       "    </tr>\n",
       "    <tr>\n",
       "      <th>min</th>\n",
       "      <td>1.000000</td>\n",
       "      <td>0.000000</td>\n",
       "      <td>1.000000</td>\n",
       "      <td>0.000000</td>\n",
       "      <td>1.000000</td>\n",
       "      <td>0.020000</td>\n",
       "      <td>0.000000</td>\n",
       "      <td>0.000000</td>\n",
       "      <td>0.000000</td>\n",
       "      <td>0.000000</td>\n",
       "      <td>0.000000</td>\n",
       "      <td>1.000000</td>\n",
       "      <td>20001.000000</td>\n",
       "      <td>1.000000</td>\n",
       "      <td>1.000000</td>\n",
       "      <td>1.000000</td>\n",
       "      <td>1.000000</td>\n",
       "    </tr>\n",
       "    <tr>\n",
       "      <th>25%</th>\n",
       "      <td>4342.500000</td>\n",
       "      <td>0.000000</td>\n",
       "      <td>4.000000</td>\n",
       "      <td>1.000000</td>\n",
       "      <td>1.000000</td>\n",
       "      <td>0.340000</td>\n",
       "      <td>0.333300</td>\n",
       "      <td>0.480000</td>\n",
       "      <td>0.104500</td>\n",
       "      <td>4.000000</td>\n",
       "      <td>34.000000</td>\n",
       "      <td>40.000000</td>\n",
       "      <td>39954.250000</td>\n",
       "      <td>2.000000</td>\n",
       "      <td>3.000000</td>\n",
       "      <td>26.000000</td>\n",
       "      <td>3.000000</td>\n",
       "    </tr>\n",
       "    <tr>\n",
       "      <th>50%</th>\n",
       "      <td>8664.000000</td>\n",
       "      <td>1.000000</td>\n",
       "      <td>7.000000</td>\n",
       "      <td>3.000000</td>\n",
       "      <td>1.000000</td>\n",
       "      <td>0.500000</td>\n",
       "      <td>0.484800</td>\n",
       "      <td>0.630000</td>\n",
       "      <td>0.194000</td>\n",
       "      <td>17.000000</td>\n",
       "      <td>115.000000</td>\n",
       "      <td>142.000000</td>\n",
       "      <td>59888.500000</td>\n",
       "      <td>3.000000</td>\n",
       "      <td>5.000000</td>\n",
       "      <td>51.000000</td>\n",
       "      <td>6.000000</td>\n",
       "    </tr>\n",
       "    <tr>\n",
       "      <th>75%</th>\n",
       "      <td>13024.500000</td>\n",
       "      <td>1.000000</td>\n",
       "      <td>10.000000</td>\n",
       "      <td>5.000000</td>\n",
       "      <td>2.000000</td>\n",
       "      <td>0.660000</td>\n",
       "      <td>0.621200</td>\n",
       "      <td>0.780000</td>\n",
       "      <td>0.253700</td>\n",
       "      <td>48.000000</td>\n",
       "      <td>220.000000</td>\n",
       "      <td>281.000000</td>\n",
       "      <td>79899.000000</td>\n",
       "      <td>4.000000</td>\n",
       "      <td>8.000000</td>\n",
       "      <td>75.000000</td>\n",
       "      <td>8.000000</td>\n",
       "    </tr>\n",
       "    <tr>\n",
       "      <th>max</th>\n",
       "      <td>17379.000000</td>\n",
       "      <td>1.000000</td>\n",
       "      <td>12.000000</td>\n",
       "      <td>6.000000</td>\n",
       "      <td>4.000000</td>\n",
       "      <td>1.000000</td>\n",
       "      <td>1.000000</td>\n",
       "      <td>1.000000</td>\n",
       "      <td>0.850700</td>\n",
       "      <td>367.000000</td>\n",
       "      <td>886.000000</td>\n",
       "      <td>977.000000</td>\n",
       "      <td>99998.000000</td>\n",
       "      <td>5.000000</td>\n",
       "      <td>10.000000</td>\n",
       "      <td>100.000000</td>\n",
       "      <td>10.000000</td>\n",
       "    </tr>\n",
       "  </tbody>\n",
       "</table>\n",
       "</div>"
      ],
      "text/plain": [
       "            instant            yr          mnth       weekday    weathersit  \\\n",
       "count  17131.000000  17141.000000  17151.000000  17130.000000  17130.000000   \n",
       "mean    8678.806666      0.502596      6.540493      3.000817      1.425803   \n",
       "std     5013.504186      0.500008      3.438079      2.006237      0.639642   \n",
       "min        1.000000      0.000000      1.000000      0.000000      1.000000   \n",
       "25%     4342.500000      0.000000      4.000000      1.000000      1.000000   \n",
       "50%     8664.000000      1.000000      7.000000      3.000000      1.000000   \n",
       "75%    13024.500000      1.000000     10.000000      5.000000      2.000000   \n",
       "max    17379.000000      1.000000     12.000000      6.000000      4.000000   \n",
       "\n",
       "               temp         atemp           hum     windspeed        casual  \\\n",
       "count  17152.000000  17118.000000  17169.000000  17146.000000  17127.000000   \n",
       "mean       0.497385      0.476085      0.626772      0.190063     35.624394   \n",
       "std        0.192669      0.171818      0.192674      0.122163     49.201808   \n",
       "min        0.020000      0.000000      0.000000      0.000000      0.000000   \n",
       "25%        0.340000      0.333300      0.480000      0.104500      4.000000   \n",
       "50%        0.500000      0.484800      0.630000      0.194000     17.000000   \n",
       "75%        0.660000      0.621200      0.780000      0.253700     48.000000   \n",
       "max        1.000000      1.000000      1.000000      0.850700    367.000000   \n",
       "\n",
       "         registered           cnt  income_level  user_satisfaction  \\\n",
       "count  17168.000000  17129.000000  17484.000000       17484.000000   \n",
       "mean     153.424569    189.441065  59838.426905           2.993137   \n",
       "std      150.831175    181.268088  23034.371285           1.410755   \n",
       "min        0.000000      1.000000  20001.000000           1.000000   \n",
       "25%       34.000000     40.000000  39954.250000           2.000000   \n",
       "50%      115.000000    142.000000  59888.500000           3.000000   \n",
       "75%      220.000000    281.000000  79899.000000           4.000000   \n",
       "max      886.000000    977.000000  99998.000000           5.000000   \n",
       "\n",
       "       bike_infrastructure_score  air_pollution_index  public_transport_access  \n",
       "count               17484.000000         17484.000000             17484.000000  \n",
       "mean                    5.472260            50.346831                 5.499485  \n",
       "std                     2.866409            28.811067                 2.863608  \n",
       "min                     1.000000             1.000000                 1.000000  \n",
       "25%                     3.000000            26.000000                 3.000000  \n",
       "50%                     5.000000            51.000000                 6.000000  \n",
       "75%                     8.000000            75.000000                 8.000000  \n",
       "max                    10.000000           100.000000                10.000000  "
      ]
     },
     "execution_count": 7,
     "metadata": {},
     "output_type": "execute_result"
    }
   ],
   "source": [
    "data.describe()\n"
   ]
  },
  {
   "cell_type": "markdown",
   "metadata": {},
   "source": [
    "## 2.7 Information sur les types de données"
   ]
  },
  {
   "cell_type": "code",
   "execution_count": 8,
   "metadata": {},
   "outputs": [
    {
     "name": "stdout",
     "output_type": "stream",
     "text": [
      "<class 'pandas.core.frame.DataFrame'>\n",
      "RangeIndex: 17484 entries, 0 to 17483\n",
      "Data columns (total 20 columns):\n",
      " #   Column                     Non-Null Count  Dtype  \n",
      "---  ------                     --------------  -----  \n",
      " 0   instant                    17131 non-null  float64\n",
      " 1   yr                         17141 non-null  float64\n",
      " 2   mnth                       17151 non-null  float64\n",
      " 3   weekday                    17130 non-null  float64\n",
      " 4   weathersit                 17130 non-null  float64\n",
      " 5   temp                       17152 non-null  float64\n",
      " 6   atemp                      17118 non-null  float64\n",
      " 7   hum                        17169 non-null  float64\n",
      " 8   windspeed                  17146 non-null  float64\n",
      " 9   casual                     17127 non-null  float64\n",
      " 10  registered                 17168 non-null  float64\n",
      " 11  cnt                        17129 non-null  float64\n",
      " 12  user_activity_level        17484 non-null  object \n",
      " 13  user_type                  17484 non-null  object \n",
      " 14  income_level               17484 non-null  int64  \n",
      " 15  zone_type                  17484 non-null  object \n",
      " 16  user_satisfaction          17484 non-null  int64  \n",
      " 17  bike_infrastructure_score  17484 non-null  int64  \n",
      " 18  air_pollution_index        17484 non-null  int64  \n",
      " 19  public_transport_access    17484 non-null  int64  \n",
      "dtypes: float64(12), int64(5), object(3)\n",
      "memory usage: 2.7+ MB\n"
     ]
    }
   ],
   "source": [
    "data.info()\n"
   ]
  },
  {
   "cell_type": "markdown",
   "metadata": {},
   "source": [
    "## 2.8 Vérification des doublons"
   ]
  },
  {
   "cell_type": "code",
   "execution_count": 9,
   "metadata": {},
   "outputs": [
    {
     "name": "stdout",
     "output_type": "stream",
     "text": [
      "Nombre de doublons : 0\n"
     ]
    }
   ],
   "source": [
    "doublons = data.duplicated().sum()\n",
    "print(f\"Nombre de doublons : {doublons}\")"
   ]
  },
  {
   "cell_type": "markdown",
   "metadata": {},
   "source": [
    "## 2.9 Vérification des valeurs manquantes\n"
   ]
  },
  {
   "cell_type": "code",
   "execution_count": 10,
   "metadata": {},
   "outputs": [
    {
     "name": "stdout",
     "output_type": "stream",
     "text": [
      "Valeurs manquantes par colonne :\n",
      " instant                      353\n",
      "yr                           343\n",
      "mnth                         333\n",
      "weekday                      354\n",
      "weathersit                   354\n",
      "temp                         332\n",
      "atemp                        366\n",
      "hum                          315\n",
      "windspeed                    338\n",
      "casual                       357\n",
      "registered                   316\n",
      "cnt                          355\n",
      "user_activity_level            0\n",
      "user_type                      0\n",
      "income_level                   0\n",
      "zone_type                      0\n",
      "user_satisfaction              0\n",
      "bike_infrastructure_score      0\n",
      "air_pollution_index            0\n",
      "public_transport_access        0\n",
      "dtype: int64\n"
     ]
    }
   ],
   "source": [
    "manquants = data.isnull().sum()\n",
    "print(\"Valeurs manquantes par colonne :\\n\", manquants)"
   ]
  },
  {
   "cell_type": "markdown",
   "metadata": {},
   "source": [
    "# Partie 3: Préparation des données\n",
    "\n"
   ]
  },
  {
   "cell_type": "markdown",
   "metadata": {},
   "source": [
    "## 3.1 Nettoyage des données"
   ]
  },
  {
   "cell_type": "markdown",
   "metadata": {},
   "source": [
    "### 3.1.1 Suppression des doublons\n"
   ]
  },
  {
   "cell_type": "code",
   "execution_count": 11,
   "metadata": {},
   "outputs": [],
   "source": [
    "data = data.drop_duplicates()\n"
   ]
  },
  {
   "cell_type": "markdown",
   "metadata": {},
   "source": [
    "### 3.1.2 Vérification s'il y a encore des doublons après suppression"
   ]
  },
  {
   "cell_type": "code",
   "execution_count": 15,
   "metadata": {},
   "outputs": [
    {
     "name": "stdout",
     "output_type": "stream",
     "text": [
      "Nombre de doublons : 0\n",
      "Valeurs manquantes par colonne :\n",
      " instant                      353\n",
      "yr                           343\n",
      "mnth                         333\n",
      "weekday                      354\n",
      "weathersit                   354\n",
      "temp                         332\n",
      "atemp                        366\n",
      "hum                          315\n",
      "windspeed                    338\n",
      "casual                       357\n",
      "registered                   316\n",
      "cnt                          355\n",
      "user_activity_level            0\n",
      "user_type                      0\n",
      "income_level                   0\n",
      "zone_type                      0\n",
      "user_satisfaction              0\n",
      "bike_infrastructure_score      0\n",
      "air_pollution_index            0\n",
      "public_transport_access        0\n",
      "dtype: int64\n"
     ]
    }
   ],
   "source": [
    "\n",
    "# Vérifier les doublons\n",
    "nombre_doublons = data.duplicated().sum()\n",
    "\n",
    "# Vérifier les valeurs manquantes\n",
    "valeurs_manquantes = data.isnull().sum()\n",
    "\n",
    "# Afficher les résultats\n",
    "print(f\"Nombre de doublons : {nombre_doublons}\")\n",
    "print(\"Valeurs manquantes par colonne :\\n\", valeurs_manquantes)\n",
    "\n"
   ]
  },
  {
   "cell_type": "markdown",
   "metadata": {},
   "source": [
    "### 3.1.3 Imputation des valeurs manquantes\n"
   ]
  },
  {
   "cell_type": "code",
   "execution_count": 2,
   "metadata": {},
   "outputs": [
    {
     "name": "stdout",
     "output_type": "stream",
     "text": [
      "Valeurs manquantes après imputation : 0\n"
     ]
    }
   ],
   "source": [
    "import pandas as pd\n",
    "from sklearn.impute import SimpleImputer\n",
    "data = pd.read_csv('datahour_v1.csv')\n",
    "\n",
    "# Séparer les colonnes numériques et catégorielles\n",
    "numerical_cols = data.select_dtypes(include=['float64', 'int64']).columns\n",
    "categorical_cols = data.select_dtypes(include=['object']).columns\n",
    "\n",
    "# Imputation pour les colonnes numériques (moyenne)\n",
    "imputer_num = SimpleImputer(strategy='mean')\n",
    "data[numerical_cols] = imputer_num.fit_transform(data[numerical_cols])\n",
    "\n",
    "# Imputation pour les colonnes catégorielles (mode)\n",
    "imputer_cat = SimpleImputer(strategy='most_frequent')\n",
    "data[categorical_cols] = imputer_cat.fit_transform(data[categorical_cols])\n",
    "\n",
    "# Vérification des valeurs manquantes après imputation\n",
    "valeurs_manquantes_apres = data.isnull().sum().sum()\n",
    "print(f\"Valeurs manquantes après imputation : {valeurs_manquantes_apres}\")\n"
   ]
  },
  {
   "cell_type": "markdown",
   "metadata": {},
   "source": [
    "## 3.2 Transformation"
   ]
  },
  {
   "cell_type": "code",
   "execution_count": null,
   "metadata": {},
   "outputs": [],
   "source": [
    "import pandas as pd\n",
    "from sklearn.preprocessing import LabelEncoder\n",
    "\n",
    "# Charger le fichier CSV\n",
    "data = pd.read_csv('datahour_v1.csv')\n",
    "\n",
    "# Créer un LabelEncoder\n",
    "label_encoder = LabelEncoder()\n",
    "\n",
    "# Liste des colonnes catégorielles à encoder\n",
    "categorical_columns = [\n",
    "    'user_activity_level',\n",
    "    'user_type',\n",
    "    'zone_type'\n",
    "]\n",
    "\n",
    "# Créer une copie du DataFrame pour les colonnes encodées\n",
    "encoded_data = data.copy()\n",
    "\n",
    "# Appliquer LabelEncoder à chaque colonne catégorielle et créer de nouvelles colonnes\n",
    "for column in categorical_columns:\n",
    "    # Encoder la colonne\n",
    "    encoded_data[column + '_encoded'] = label_encoder.fit_transform(encoded_data[column])\n",
    "\n",
    "# Vérifier les résultats avant de supprimer les colonnes d'origine\n",
    "print(encoded_data[categorical_columns + [col + '_encoded' for col in categorical_columns]].head())\n",
    "\n",
    "# Supprimer les colonnes d'origine\n",
    "encoded_data = encoded_data.drop(columns=categorical_columns)\n",
    "\n",
    "# Vérifier les résultats après suppression\n",
    "print(encoded_data.head())\n",
    "\n",
    "# Enregistrer les modifications dans un nouveau fichier CSV\n",
    "encoded_data.to_csv('datahour_encode.csv', index=False)\n"
   ]
  },
  {
   "cell_type": "markdown",
   "metadata": {},
   "source": [
    "## 3.3 Normalisation"
   ]
  },
  {
   "cell_type": "markdown",
   "metadata": {},
   "source": [
    "#### Normalisation des variables numériques (MinMaxScaler)"
   ]
  },
  {
   "cell_type": "code",
   "execution_count": null,
   "metadata": {},
   "outputs": [],
   "source": [
    "import pandas as pd\n",
    "from sklearn.preprocessing import  MinMaxScaler\n",
    "\n",
    "# Charger le fichier CSV\n",
    "data = pd.read_csv('datahour_encode.csv')\n",
    "\n",
    "# Créer instance MinMaxScaler\n",
    "scaler = MinMaxScaler()\n",
    "\n",
    "\n",
    "# Identifier toutes les colonnes à normaliser (incluant les colonnes encodées)\n",
    "# On sélectionne toutes les colonnes à l'exception de la colonne d'identifiant (s'il y en a une)\n",
    "columns_to_normalize = data.select_dtypes(include=['float64', 'int64']).columns.tolist()\n",
    "\n",
    "# Normaliser toutes les colonnes\n",
    "data[columns_to_normalize] = scaler.fit_transform(data[columns_to_normalize])\n",
    "\n",
    "# Vérifier les résultats\n",
    "print(data.head())\n",
    "\n",
    "# Enregistrer les modifications dans un nouveau fichier CSV\n",
    "data.to_csv('datahour_normalisation.csv', index=False)\n"
   ]
  },
  {
   "cell_type": "markdown",
   "metadata": {},
   "source": [
    "## 3.4 Création de nouvelles fonctionnalités (Feature Engineering)"
   ]
  },
  {
   "cell_type": "markdown",
   "metadata": {},
   "source": [
    "#### Extraction des caractéristiques de la date"
   ]
  },
  {
   "cell_type": "code",
   "execution_count": null,
   "metadata": {},
   "outputs": [],
   "source": [
    "data = pd.read_csv('datahour_encode.csv')\n",
    "\n",
    "# 1. Interaction entre Température et Humidité\n",
    "data['temp_hum_interaction'] = data['temp'] * data['hum']\n",
    "\n",
    "# 2. Ratio des Utilisateurs Occasionnels par Rapport aux Utilisateurs Enregistrés\n",
    "data['casual_registered_ratio'] = data['casual'] / (data['registered'] + 1)\n",
    "\n",
    "# 3. Binarisation de la Température\n",
    "data['high_temp'] = (data['temp'] > 0.5).astype(int)\n",
    "\n",
    "# 4. Score d'Expérience Utilisateur\n",
    "data['user_experience_score'] = data['user_satisfaction'] + data['bike_infrastructure_score']\n",
    "\n",
    "# 5. Moyenne des Locations par Type d'Utilisateur\n",
    "user_type_avg_rentals = data.groupby('user_type_encoded')['cnt'].mean().reset_index()\n",
    "user_type_avg_rentals.columns = ['user_type_encoded', 'avg_rentals']\n",
    "data = data.merge(user_type_avg_rentals, on='user_type_encoded', how='left')\n",
    "\n",
    "# Vérifier les nouvelles fonctionnalités\n",
    "print(data[['temp_hum_interaction', 'casual_registered_ratio', 'high_temp', 'user_experience_score']].head())\n",
    "\n",
    "data.to_csv('datahour_avec_nouvelles_fonctionnalites.csv', index=False)\n",
    "\n",
    "\n",
    "\n",
    "\n"
   ]
  },
  {
   "cell_type": "markdown",
   "metadata": {},
   "source": [
    "# Partie 4: Modélisation\n"
   ]
  },
  {
   "cell_type": "markdown",
   "metadata": {},
   "source": [
    "## 4.1 Séparation des features et de la cible (X et y)\n"
   ]
  },
  {
   "cell_type": "code",
   "execution_count": null,
   "metadata": {},
   "outputs": [],
   "source": [
    "import pandas as pd\n",
    "from sklearn.model_selection import train_test_split\n",
    "from sklearn.ensemble import RandomForestRegressor\n",
    "from sklearn.metrics import mean_squared_error, r2_score\n",
    "data = pd.read_csv('datahour_avec_nouvelles_fonctionnalites.csv')\n",
    "# Définir les caractéristiques et la variable cible\n",
    "X = data.drop(columns=['cnt'])  # Toutes les colonnes sauf 'cnt'\n",
    "y = data['cnt']  # Variable cible\n",
    "# Diviser les données en ensembles d'entraînement et de test\n",
    "X_train, X_test, y_train, y_test = train_test_split(X, y, test_size=0.2, random_state=42)\n",
    "# Créer une instance du modèle\n",
    "model = RandomForestRegressor(n_estimators=100, random_state=42)\n",
    "\n",
    "# Entraîner le modèle\n",
    "model.fit(X_train, y_train)\n",
    "# Prédictions sur l'ensemble de test\n",
    "y_pred = model.predict(X_test)\n",
    "\n",
    "# Évaluation du modèle\n",
    "mse = mean_squared_error(y_test, y_pred)\n",
    "r2 = r2_score(y_test, y_pred)\n",
    "\n",
    "print(f'Mean Squared Error: {mse:.2f}')\n",
    "print(f'R^2 Score: {r2:.2f}')\n",
    "\n",
    "\n"
   ]
  },
  {
   "cell_type": "markdown",
   "metadata": {},
   "source": [
    "## 4.2 Validation croisée"
   ]
  },
  {
   "cell_type": "code",
   "execution_count": null,
   "metadata": {},
   "outputs": [],
   "source": [
    "from sklearn.model_selection import cross_val_score\n",
    "import numpy as np\n",
    "\n",
    "scores = cross_val_score(model, X, y, cv=5, scoring='neg_mean_squared_error')\n",
    "mse_scores = -scores  # Inverse des scores négatifs\n",
    "print(f'Cross-validated MSE: {np.mean(mse_scores):.2f}')\n"
   ]
  },
  {
   "cell_type": "markdown",
   "metadata": {},
   "source": [
    "## 4.3 KNN\n",
    "\n"
   ]
  },
  {
   "cell_type": "code",
   "execution_count": null,
   "metadata": {},
   "outputs": [],
   "source": [
    "import pandas as pd\n",
    "from sklearn.model_selection import train_test_split\n",
    "from sklearn.neighbors import KNeighborsRegressor\n",
    "from sklearn.metrics import mean_squared_error, r2_score\n",
    "from sklearn.preprocessing import MinMaxScaler\n",
    "\n",
    "# Charger les données\n",
    "data = pd.read_csv('datahour_avec_nouvelles_fonctionnalites.csv')\n",
    "\n",
    "# Définir les caractéristiques et la variable cible\n",
    "X = data.drop(columns=['cnt'])  # Toutes les colonnes sauf 'cnt'\n",
    "y = data['cnt']  # Variable cible\n",
    "\n",
    "# Normaliser les caractéristiques\n",
    "scaler = MinMaxScaler()\n",
    "X_scaled = scaler.fit_transform(X)\n",
    "\n",
    "# Diviser les données en ensembles d'entraînement et de test\n",
    "X_train, X_test, y_train, y_test = train_test_split(X_scaled, y, test_size=0.2, random_state=42)\n",
    "\n",
    "# Créer une instance du modèle KNN avec le meilleur k trouvé\n",
    "best_k = 7  # Le meilleur k trouvé\n",
    "knn_model = KNeighborsRegressor(n_neighbors=best_k)\n",
    "\n",
    "# Entraîner le modèle\n",
    "knn_model.fit(X_train, y_train)\n",
    "\n",
    "# Prédictions sur l'ensemble de test\n",
    "y_pred = knn_model.predict(X_test)\n",
    "\n",
    "# Évaluation du modèle\n",
    "mse_knn = mean_squared_error(y_test, y_pred)\n",
    "r2_knn = r2_score(y_test, y_pred)\n",
    "\n",
    "print(f'Mean Squared Error (KNN avec k={best_k}): {mse_knn:.2f}')\n",
    "print(f'R^2 Score (KNN avec k={best_k}): {r2_knn:.2f}')\n"
   ]
  },
  {
   "cell_type": "code",
   "execution_count": null,
   "metadata": {},
   "outputs": [],
   "source": [
    "from sklearn.model_selection import GridSearchCV\n",
    "\n",
    "# Définir la grille de recherche pour k\n",
    "param_grid = {'n_neighbors': range(1, 21)}  # Tester k de 1 à 20\n",
    "\n",
    "# Créer une instance de GridSearchCV\n",
    "grid_search = GridSearchCV(KNeighborsRegressor(), param_grid, cv=5, scoring='neg_mean_squared_error')\n",
    "grid_search.fit(X_train, y_train)\n",
    "\n",
    "print(\"Meilleur k trouvé :\", grid_search.best_params_)\n"
   ]
  },
  {
   "cell_type": "code",
   "execution_count": null,
   "metadata": {},
   "outputs": [],
   "source": [
    "import matplotlib.pyplot as plt\n",
    "\n",
    "plt.figure(figsize=(10, 6))\n",
    "plt.scatter(y_test, y_pred)\n",
    "plt.plot([y.min(), y.max()], [y.min(), y.max()], 'k--', lw=2)  # Ligne de référence\n",
    "plt.xlabel('Valeurs Réelles')\n",
    "plt.ylabel('Valeurs Prédites (KNN)')\n",
    "plt.title('Valeurs Réelles vs Valeurs Prédites (KNN)')\n",
    "plt.show()\n"
   ]
  },
  {
   "cell_type": "markdown",
   "metadata": {},
   "source": [
    "## 4.4 Prédictions\n"
   ]
  },
  {
   "cell_type": "code",
   "execution_count": null,
   "metadata": {},
   "outputs": [],
   "source": [
    "import pandas as pd\n",
    "\n",
    "# Exemple de nouvelles entrées\n",
    "nouvelles_entrees = {\n",
    "    'weathersit': [1],  # Situation météorologique (1: Clair)\n",
    "    'temp': [0.5],  # Température normalisée\n",
    "    'atemp': [0.6],  # Température ressentie normalisée\n",
    "    'hum': [0.4],  # Humidité relative normalisée\n",
    "    'windspeed': [0.3],  # Vitesse du vent normalisée\n",
    "    'casual': [5],  # Nombre de locations par utilisateurs occasionnels\n",
    "    'registered': [15],  # Nombre de locations par utilisateurs enregistrés\n",
    "    'cnt': [20],  # Nombre total de locations (pour référence, pas nécessaire pour prédiction)\n",
    "    'income_level': [60000],  # Niveau de revenu moyen\n",
    "    'user_satisfaction': [4],  # Indice de satisfaction\n",
    "    'bike_infrastructure_score': [8],  # Score de l'infrastructure cyclable\n",
    "    'air_pollution_index': [30],  # Indice de pollution de l'air\n",
    "    'public_transport_access': [7],  # Accessibilité des transports publics\n",
    "    'user_activity_level_encoded': [2],  # Encodage pour l'activité utilisateur (ex. : élevé)\n",
    "    'user_type_encoded': [1],  # Encodage pour le type d'utilisateur (ex. : fréquent)\n",
    "    'zone_type_encoded': [0],  # Encodage pour le type de zone (ex. : résidentiel)\n",
    "    'temp_hum_interaction': [0.5 * 0.4],  # Interaction entre temp et hum\n",
    "    'casual_registered_ratio': [5 / (5 + 15)],  # Ratio des utilisateurs occasionnels\n",
    "    'high_temp': [1 if 0.5 > 0.5 else 0],  # Flag pour haute température\n",
    "    'user_experience_score': [4],  # Score d'expérience utilisateur\n",
    "    'avg_rentals': [10]  # Exemple de moyenne des locations\n",
    "}\n",
    "\n",
    "# Créer un DataFrame pour les nouvelles entrées\n",
    "df_nouvelles_entrees = pd.DataFrame(nouvelles_entrees)\n",
    "\n",
    "# Vérifier le nombre de colonnes\n",
    "print(\"Nombre de colonnes dans les nouvelles entrées :\", df_nouvelles_entrees.shape[1])\n",
    "\n",
    "# Vérifier les colonnes\n",
    "print(\"Nouvelles Entrées:\\n\", df_nouvelles_entrees)\n",
    "\n",
    "# Faire des prédictions avec le modèle KNN\n",
    "predictions = knn_model.predict(df_nouvelles_entrees)\n",
    "\n",
    "# Afficher les prédictions\n",
    "print(\"Prédictions des locations de vélos :\", predictions)\n"
   ]
  },
  {
   "cell_type": "code",
   "execution_count": null,
   "metadata": {},
   "outputs": [],
   "source": [
    "import matplotlib.pyplot as plt\n",
    "\n",
    "# Comparer les valeurs réelles et prédites\n",
    "plt.figure(figsize=(10, 5))\n",
    "plt.scatter(y_test, y_pred, alpha=0.7)\n",
    "plt.title('Valeurs Réelles vs Prédictions')\n",
    "plt.xlabel('Valeurs Réelles')\n",
    "plt.ylabel('Prédictions')\n",
    "plt.plot([0, max(y_test)], [0, max(y_test)], color='red', linestyle='--')  # ligne y=x\n",
    "plt.grid()\n",
    "plt.show()\n"
   ]
  },
  {
   "cell_type": "markdown",
   "metadata": {},
   "source": [
    "# Partie 5: Évaluation du modèle\n"
   ]
  },
  {
   "cell_type": "markdown",
   "metadata": {},
   "source": [
    "## 5.1 Évaluation des performances du modèle (MAE, RMSE, R2)\n"
   ]
  },
  {
   "cell_type": "code",
   "execution_count": null,
   "metadata": {},
   "outputs": [],
   "source": [
    "from sklearn.metrics import mean_absolute_error, mean_squared_error, r2_score\n",
    "\n",
    "mae = mean_absolute_error(y_test, y_pred)\n",
    "rmse = mean_squared_error(y_test, y_pred, squared=False)\n",
    "r2 = r2_score(y_test, y_pred)\n",
    "\n",
    "print(f\"MAE : {mae}\")\n",
    "print(f\"RMSE : {rmse}\")\n",
    "print(f\"R² : {r2}\")"
   ]
  },
  {
   "cell_type": "markdown",
   "metadata": {},
   "source": [
    "# Partie 6: Déploiement\n"
   ]
  },
  {
   "cell_type": "markdown",
   "metadata": {},
   "source": [
    "### Étapes du déploiement :\n",
    "1. **Enregistrer le modèle** : Vous pouvez utiliser `joblib` ou `pickle` pour sauvegarder votre modèle.\n",
    "2. **Utiliser Flask ou Streamlit** pour déployer une API ou une application web qui effectue les prédictions en temps réel.\n",
    "3. **Surveiller les performances** du modèle en production et réentraîner si nécessaire.\n"
   ]
  },
  {
   "cell_type": "markdown",
   "metadata": {},
   "source": [
    "### Enregistrement du modèle dans un fichier :\n",
    "\n"
   ]
  },
  {
   "cell_type": "code",
   "execution_count": 139,
   "metadata": {},
   "outputs": [],
   "source": [
    "import joblib\n",
    "\n",
    "# Sauvegarder le modèle\n",
    "joblib.dump(modele, 'modele_location_velos.pkl')\n",
    "\n",
    "# Charger le modèle plus tard\n",
    "modele_charge = joblib.load('modele_location_velos.pkl')"
   ]
  }
 ],
 "metadata": {
  "kernelspec": {
   "display_name": "base",
   "language": "python",
   "name": "python3"
  },
  "language_info": {
   "codemirror_mode": {
    "name": "ipython",
    "version": 3
   },
   "file_extension": ".py",
   "mimetype": "text/x-python",
   "name": "python",
   "nbconvert_exporter": "python",
   "pygments_lexer": "ipython3",
   "version": "3.9.20"
  }
 },
 "nbformat": 4,
 "nbformat_minor": 2
}
