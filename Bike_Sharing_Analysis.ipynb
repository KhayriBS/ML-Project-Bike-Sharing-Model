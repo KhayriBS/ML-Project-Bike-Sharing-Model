{
 "cells": [
  {
   "cell_type": "markdown",
   "metadata": {},
   "source": [
    "# Partie 1: Compréhension du métier (Business Understanding)\n"
   ]
  },
  {
   "cell_type": "markdown",
   "metadata": {},
   "source": [
    "### 1.1 Description du métier\n",
    "Le dataset représente un système de location de vélos à Washington D.C., où les utilisateurs peuvent louer et rendre des vélos à différents points. Des facteurs environnementaux et contextuels comme la saison, la météo, et les jours fériés influencent le comportement de location.\n",
    "\n",
    "### 1.2 Problématique\n",
    "Prédire le nombre de vélos loués en fonction des conditions environnementales et calendaires.\n",
    "\n",
    "### 1.3 Objectifs métier et objectifs de science des données\n",
    "\n",
    "| **Business Objective (BO)** | **Data Science Objective (DSO)** |\n",
    "|-----------------------------|----------------------------------|\n",
    "| **BO1**: Optimiser la gestion des vélos disponibles en fonction de l'environnement et des infrastructures pour anticiper la demande. | **DSO1**: Utiliser les nouvelles variables (infrastructures de vélo, accessibilité des transports publics, zone d’utilisation, pollution de l’air) pour prédire le nombre de locations de vélos. |\n",
    "| **BO2**: Planifier la maintenance des vélos selon l'utilisation par segment d'utilisateurs et améliorer la satisfaction. | **DSO2**: Identifier les niveaux d'activité des utilisateurs et leurs habitudes (`user_activity_level`, `user_satisfaction`) pour ajuster la maintenance et améliorer la qualité du service. |\n",
    "| **BO3**: Analyser l'impact des facteurs socio-économiques et environnementaux sur la location de vélos. | **DSO3**: Modéliser la relation entre le **niveau de revenu**, l'**indice de pollution**, et d'autres variables socio-économiques (`income_level`, `air_pollution_index`, `public_transport_access`) sur l'utilisation des vélos. |\n"
   ]
  },
  {
   "cell_type": "markdown",
   "metadata": {},
   "source": [
    "# Partie 2: Compréhension des données (Data Understanding)\n"
   ]
  },
  {
   "cell_type": "markdown",
   "metadata": {},
   "source": [
    "## 2.1 Importer les données\n"
   ]
  },
  {
   "cell_type": "code",
   "execution_count": 21,
   "metadata": {},
   "outputs": [
    {
     "name": "stdout",
     "output_type": "stream",
     "text": [
      "Requirement already satisfied: pandas in c:\\users\\hatem\\anaconda3\\lib\\site-packages (1.4.4)\n",
      "Requirement already satisfied: pytz>=2020.1 in c:\\users\\hatem\\anaconda3\\lib\\site-packages (from pandas) (2022.1)\n",
      "Requirement already satisfied: numpy>=1.18.5 in c:\\users\\hatem\\anaconda3\\lib\\site-packages (from pandas) (1.21.5)\n",
      "Requirement already satisfied: python-dateutil>=2.8.1 in c:\\users\\hatem\\anaconda3\\lib\\site-packages (from pandas) (2.8.2)\n",
      "Requirement already satisfied: six>=1.5 in c:\\users\\hatem\\anaconda3\\lib\\site-packages (from python-dateutil>=2.8.1->pandas) (1.16.0)\n",
      "Note: you may need to restart the kernel to use updated packages.\n"
     ]
    }
   ],
   "source": [
    "%pip install pandas\n",
    "import pandas as pd\n",
    "\n",
    "data = pd.read_csv('datahour.csv') \n"
   ]
  },
  {
   "cell_type": "markdown",
   "metadata": {},
   "source": [
    "## 2.2 Description des Variables du Dataset Bike Sharing (version init)\n"
   ]
  },
  {
   "cell_type": "markdown",
   "metadata": {},
   "source": [
    "\n",
    "| **Nom de la variable** | **Description** |\n",
    "|------------------------|-----------------|\n",
    "| **Instant**            | Identificateur unique pour chaque enregistrement. |\n",
    "| **dteday**             | Date précise de la location des vélos. |\n",
    "| **season**             | Saison de l'année, codée de 1 à 4 (1: printemps, 2: été, 3: automne, 4: hiver). |\n",
    "| **yr**                 | Année (0 pour 2011, 1 pour 2012). |\n",
    "| **mnth**               | Mois de l'année (1 à 12). |\n",
    "| **hr**                 | Heure de la journée (0 à 23). |\n",
    "| **holiday**            | Indique si le jour est un jour férié (0 : non, 1 : oui). |\n",
    "| **weekday**            | Jour de la semaine (0 pour dimanche, 6 pour samedi). |\n",
    "| **workingday**         | Indique si le jour est un jour ouvrable (ni week-end, ni jour férié). |\n",
    "| **weathersit**         | Situation météorologique : <br> 1: Clair, partiellement nuageux <br> 2: Brume + nuages <br> 3: Pluie légère, neige légère <br> 4: Fortes précipitations. |\n",
    "| **temp**               | Température normalisée (valeurs divisées par 41°C, max possible). |\n",
    "| **atemp**              | Température ressentie normalisée (valeurs divisées par 50°C, max possible). |\n",
    "| **hum**                | Humidité relative normalisée (valeurs divisées par 100, max possible). |\n",
    "| **windspeed**          | Vitesse du vent normalisée (valeurs divisées par 67, max possible). |\n",
    "| **casual**             | Nombre de locations par des utilisateurs occasionnels. |\n",
    "| **registered**         | Nombre de locations par des utilisateurs enregistrés. |\n",
    "| **cnt**                | Nombre total de vélos loués (inclus utilisateurs occasionnels et enregistrés). |"
   ]
  },
  {
   "cell_type": "markdown",
   "metadata": {},
   "source": [
    "### Remarque : \n",
    "Le dataset contient initialement des données temporelles telles que : `dteday` (date), `season` (saison), `yr` (année), `mnth` (mois), `hr` (heure), `holiday` (jour férié), `weekday` (jour de la semaine), et `workingday` (jour ouvré). Ces colonnes seront remplacées par d'autres variables non temporelles simulées afin d'enrichir le dataset avec des informations contextuelles et socio-économiques.\n"
   ]
  },
  {
   "cell_type": "markdown",
   "metadata": {},
   "source": [
    "### Correction du Dataset :\n",
    "\n",
    "1. **Supprimer les colonnes temporelles** :\n",
    "   Les colonnes suivantes, liées au temps, seront supprimées du dataset :\n",
    "   - `dteday` (date)\n",
    "   - `season` (saison)\n",
    "   - `yr` (année)\n",
    "   - `mnth` (mois)\n",
    "   - `hr` (heure)\n",
    "   - `holiday` (jour férié)\n",
    "   - `weekday` (jour de la semaine)\n",
    "   - `workingday` (jour ouvré)\n",
    "\n",
    "2. **Remplacer par d'autres colonnes non temporelles** :\n",
    "   Afin d'enrichir le dataset, les colonnes supprimées seront remplacées par des variables non temporelles simulées :\n",
    "   - `user_activity_level` : Niveau d'activité des utilisateurs (faible, moyen, élevé)\n",
    "   - `user_type` : Type d'utilisateur (occasionnel ou fréquent)\n",
    "   - `income_level` : Niveau de revenu moyen des utilisateurs (entre 20 000 et 100 000)\n",
    "   - `zone_type` : Type de zone (résidentiel ou commercial)\n",
    "   - `user_satisfaction` : Indice de satisfaction des utilisateurs (entre 1 et 5)\n",
    "   - `bike_infrastructure_score` : Score de l'infrastructure cyclable (entre 1 et 10)\n",
    "   - `air_pollution_index` : Indice de pollution de l'air (entre 1 et 100)\n",
    "   - `public_transport_access` : Accessibilité des transports publics (entre 1 et 10)\n",
    "\n",
    "Ces nouvelles colonnes ajoutent des informations contextuelles, socio-économiques et environnementales afin de mieux modéliser la demande de vélos.\n"
   ]
  },
  {
   "cell_type": "code",
   "execution_count": 82,
   "metadata": {},
   "outputs": [
    {
     "name": "stdout",
     "output_type": "stream",
     "text": [
      "Colonnes existantes: ['instant', 'weathersit', 'temp', 'atemp', 'hum', 'windspeed', 'casual', 'registered', 'cnt', 'user_activity_level', 'user_type', 'income_level', 'zone_type', 'user_satisfaction', 'bike_infrastructure_score', 'air_pollution_index', 'public_transport_access']\n",
      "Aucune colonne à supprimer.\n"
     ]
    }
   ],
   "source": [
    "# Afficher les colonnes existantes\n",
    "print(\"Colonnes existantes:\", data.columns.tolist())\n",
    "\n",
    "# Supprimer les colonnes uniquement si elles existent\n",
    "columns_to_drop = ['dteday', 'season', 'year', 'month', 'hr', 'holiday', 'day_of_week', 'workingday']\n",
    "existing_columns = [col for col in columns_to_drop if col in data.columns]\n",
    "\n",
    "if existing_columns:\n",
    "    data = data.drop(columns=existing_columns,inplace=False)\n",
    "else:\n",
    "    print(\"Aucune colonne à supprimer.\")\n"
   ]
  },
  {
   "cell_type": "code",
   "execution_count": 83,
   "metadata": {},
   "outputs": [],
   "source": [
    "import pandas as pd\n",
    "import numpy as np\n",
    "\n",
    "# 1. Ajout d'une colonne simulée pour le niveau d'activité des utilisateurs\n",
    "data['user_activity_level'] = np.random.choice(['faible', 'moyen', 'élevé'], size=len(data))\n",
    "\n",
    "# 2. Ajout d'une colonne simulée pour le type d'utilisateur (occasionnel ou fréquent)\n",
    "data['user_type'] = np.random.choice(['occasionnel', 'frequent'], size=len(data))\n",
    "\n",
    "# 3. Ajout d'une colonne simulée pour le niveau de revenu (par exemple, entre 20000 et 100000 unités monétaires)\n",
    "data['income_level'] = np.random.randint(20000, 100000, size=len(data))\n",
    "\n",
    "# 4. Ajout d'une colonne simulée pour le type de zone (résidentiel ou commercial)\n",
    "data['zone_type'] = np.random.choice(['residentiel', 'commercial'], size=len(data))\n",
    "\n",
    "# 5. Ajout d'une colonne simulée pour l'indice de satisfaction des utilisateurs (entre 1 et 5)\n",
    "data['user_satisfaction'] = np.random.randint(1, 6, size=len(data))  # Valeurs entières entre 1 (faible) et 5 (élevé)\n",
    "\n",
    "# 6. Ajout d'une colonne simulée pour le nombre d'infrastructures de vélo dans la zone\n",
    "data['bike_infrastructure_score'] = np.random.randint(1, 11, size=len(data))  # Valeur entre 1 et 10\n",
    "\n",
    "# 7. Ajout d'une colonne simulée pour le niveau de pollution atmosphérique (entre 1 et 100)\n",
    "data['air_pollution_index'] = np.random.randint(1, 101, size=len(data))  # Valeur entre 1 (faible pollution) et 100 (haute pollution)\n",
    "\n",
    "# 8. Ajout d'une colonne simulée pour l'accessibilité des transports publics (entre 1 et 10)\n",
    "data['public_transport_access'] = np.random.randint(1, 11, size=len(data))  # Valeur entre 1 (faible accessibilité) et 10 (excellente accessibilité)\n",
    "\n",
    "data.to_csv('datahour_v1.csv', index=False)  # Sauvegarde sans l'index\n",
    "\n",
    "\n"
   ]
  },
  {
   "cell_type": "markdown",
   "metadata": {},
   "source": [
    "## 2.2 Description des Variables du Dataset Bike Sharing (version 1)\n"
   ]
  },
  {
   "cell_type": "markdown",
   "metadata": {},
   "source": [
    "| **Nom de la Variable**              | **Description**                                                                                   | **Type de Donnée**   | **Plage de Valeurs**                       |\n",
    "|-------------------------------------|---------------------------------------------------------------------------------------------------|----------------------|--------------------------------------------|\n",
    "| `Instant`                           | Identificateur unique pour chaque enregistrement                                                 | Numérique            | 1, 2, 3, ... (identifiants uniques)       |\n",
    "| `temp`                              | Température normalisée (valeurs divisées par 41°C, max possible)                                | Numérique            | entre 0 et 1                               |\n",
    "| `atemp`                             | Température ressentie normalisée (valeurs divisées par 50°C, max possible)                     | Numérique            | entre 0 et 1                               |\n",
    "| `hum`                               | Humidité relative normalisée (valeurs divisées par 100, max possible)                           | Numérique            | entre 0 et 1                               |\n",
    "| `windspeed`                         | Vitesse du vent normalisée (valeurs divisées par 67, max possible)                             | Numérique            | entre 0 et 1                               |\n",
    "| `casual`                            | Nombre de locations par des utilisateurs occasionnels                                             | Numérique            | 0 et plus                                  |\n",
    "| `registered`                        | Nombre de locations par des utilisateurs enregistrés                                             | Numérique            | 0 et plus                                  |\n",
    "| `cnt`                               | Nombre total de vélos loués (inclus utilisateurs occasionnels et enregistrés)                   | Numérique            | 0 et plus                                  |\n",
    "| `user_activity_level`               | Niveau d'activité des utilisateurs (faible, moyen, élevé)                                       | Catégorique          | faible, moyen, élevé                       |\n",
    "| `user_type`                         | Type d'utilisateur (occasionnel ou fréquent)                                                    | Catégorique          | occasionnel, fréquent                      |\n",
    "| `income_level`                      | Niveau de revenu moyen des utilisateurs                                                          | Numérique            | entre 20 000 et 100 000                   |\n",
    "| `zone_type`                        | Type de zone (résidentiel ou commercial)                                                        | Catégorique          | résidentiel, commercial                    |\n",
    "| `user_satisfaction`                | Indice de satisfaction des utilisateurs                                                           | Numérique            | entre 1 et 5                               |\n",
    "| `bike_infrastructure_score`         | Score de l'infrastructure cyclable                                                                | Numérique            | entre 1 et 10                              |\n",
    "| `air_pollution_index`              | Indice de pollution de l'air                                                                      | Numérique            | entre 1 et 100                             |\n",
    "| `public_transport_access`           | Accessibilité des transports publics                                                               | Numérique            | entre 1 et 10                              |\n",
    "| `weathersit`                       | Situation météorologique : <br> 1: Clair, partiellement nuageux <br> 2: Brume + nuages <br> 3: Pluie légère, neige légère <br> 4: Fortes précipitations | Numérique (Catégorique)          | 1, 2, 3, 4                                 |\n"
   ]
  },
  {
   "cell_type": "markdown",
   "metadata": {},
   "source": [
    "## 2.3 Dimensions des données\n"
   ]
  },
  {
   "cell_type": "code",
   "execution_count": 85,
   "metadata": {},
   "outputs": [
    {
     "name": "stdout",
     "output_type": "stream",
     "text": [
      "Dimensions des données: (Nbr lignes, Nbr colonnes) (17379, 17)\n"
     ]
    }
   ],
   "source": [
    "import pandas as pd\n",
    "\n",
    "data = pd.read_csv('datahour_v1.csv') \n",
    "print(\"Dimensions des données: (Nbr lignes, Nbr colonnes)\", data.shape)\n"
   ]
  },
  {
   "cell_type": "markdown",
   "metadata": {},
   "source": [
    "## 2.4 Afficher les premières lignes\n"
   ]
  },
  {
   "cell_type": "code",
   "execution_count": 86,
   "metadata": {},
   "outputs": [
    {
     "data": {
      "text/html": [
       "<div>\n",
       "<style scoped>\n",
       "    .dataframe tbody tr th:only-of-type {\n",
       "        vertical-align: middle;\n",
       "    }\n",
       "\n",
       "    .dataframe tbody tr th {\n",
       "        vertical-align: top;\n",
       "    }\n",
       "\n",
       "    .dataframe thead th {\n",
       "        text-align: right;\n",
       "    }\n",
       "</style>\n",
       "<table border=\"1\" class=\"dataframe\">\n",
       "  <thead>\n",
       "    <tr style=\"text-align: right;\">\n",
       "      <th></th>\n",
       "      <th>instant</th>\n",
       "      <th>weathersit</th>\n",
       "      <th>temp</th>\n",
       "      <th>atemp</th>\n",
       "      <th>hum</th>\n",
       "      <th>windspeed</th>\n",
       "      <th>casual</th>\n",
       "      <th>registered</th>\n",
       "      <th>cnt</th>\n",
       "      <th>user_activity_level</th>\n",
       "      <th>user_type</th>\n",
       "      <th>income_level</th>\n",
       "      <th>zone_type</th>\n",
       "      <th>user_satisfaction</th>\n",
       "      <th>bike_infrastructure_score</th>\n",
       "      <th>air_pollution_index</th>\n",
       "      <th>public_transport_access</th>\n",
       "    </tr>\n",
       "  </thead>\n",
       "  <tbody>\n",
       "    <tr>\n",
       "      <th>0</th>\n",
       "      <td>1.0</td>\n",
       "      <td>1.0</td>\n",
       "      <td>0.224490</td>\n",
       "      <td>0.2879</td>\n",
       "      <td>0.81</td>\n",
       "      <td>0.0</td>\n",
       "      <td>3.0</td>\n",
       "      <td>13.0</td>\n",
       "      <td>16.0</td>\n",
       "      <td>moyen</td>\n",
       "      <td>occasionnel</td>\n",
       "      <td>64323</td>\n",
       "      <td>residentiel</td>\n",
       "      <td>2</td>\n",
       "      <td>4</td>\n",
       "      <td>72</td>\n",
       "      <td>6</td>\n",
       "    </tr>\n",
       "    <tr>\n",
       "      <th>1</th>\n",
       "      <td>2.0</td>\n",
       "      <td>1.0</td>\n",
       "      <td>0.204082</td>\n",
       "      <td>0.2727</td>\n",
       "      <td>0.80</td>\n",
       "      <td>0.0</td>\n",
       "      <td>8.0</td>\n",
       "      <td>32.0</td>\n",
       "      <td>40.0</td>\n",
       "      <td>faible</td>\n",
       "      <td>occasionnel</td>\n",
       "      <td>90549</td>\n",
       "      <td>commercial</td>\n",
       "      <td>5</td>\n",
       "      <td>5</td>\n",
       "      <td>83</td>\n",
       "      <td>1</td>\n",
       "    </tr>\n",
       "    <tr>\n",
       "      <th>2</th>\n",
       "      <td>3.0</td>\n",
       "      <td>1.0</td>\n",
       "      <td>0.204082</td>\n",
       "      <td>0.2727</td>\n",
       "      <td>0.80</td>\n",
       "      <td>0.0</td>\n",
       "      <td>5.0</td>\n",
       "      <td>27.0</td>\n",
       "      <td>32.0</td>\n",
       "      <td>faible</td>\n",
       "      <td>occasionnel</td>\n",
       "      <td>94862</td>\n",
       "      <td>residentiel</td>\n",
       "      <td>3</td>\n",
       "      <td>4</td>\n",
       "      <td>27</td>\n",
       "      <td>1</td>\n",
       "    </tr>\n",
       "    <tr>\n",
       "      <th>3</th>\n",
       "      <td>4.0</td>\n",
       "      <td>1.0</td>\n",
       "      <td>0.224490</td>\n",
       "      <td>0.2879</td>\n",
       "      <td>0.75</td>\n",
       "      <td>0.0</td>\n",
       "      <td>3.0</td>\n",
       "      <td>10.0</td>\n",
       "      <td>13.0</td>\n",
       "      <td>élevé</td>\n",
       "      <td>occasionnel</td>\n",
       "      <td>91347</td>\n",
       "      <td>commercial</td>\n",
       "      <td>1</td>\n",
       "      <td>8</td>\n",
       "      <td>39</td>\n",
       "      <td>10</td>\n",
       "    </tr>\n",
       "    <tr>\n",
       "      <th>4</th>\n",
       "      <td>5.0</td>\n",
       "      <td>1.0</td>\n",
       "      <td>0.224490</td>\n",
       "      <td>0.2879</td>\n",
       "      <td>0.75</td>\n",
       "      <td>0.0</td>\n",
       "      <td>0.0</td>\n",
       "      <td>1.0</td>\n",
       "      <td>1.0</td>\n",
       "      <td>moyen</td>\n",
       "      <td>frequent</td>\n",
       "      <td>57902</td>\n",
       "      <td>residentiel</td>\n",
       "      <td>4</td>\n",
       "      <td>1</td>\n",
       "      <td>78</td>\n",
       "      <td>6</td>\n",
       "    </tr>\n",
       "  </tbody>\n",
       "</table>\n",
       "</div>"
      ],
      "text/plain": [
       "   instant  weathersit      temp   atemp   hum  windspeed  casual  registered  \\\n",
       "0      1.0         1.0  0.224490  0.2879  0.81        0.0     3.0        13.0   \n",
       "1      2.0         1.0  0.204082  0.2727  0.80        0.0     8.0        32.0   \n",
       "2      3.0         1.0  0.204082  0.2727  0.80        0.0     5.0        27.0   \n",
       "3      4.0         1.0  0.224490  0.2879  0.75        0.0     3.0        10.0   \n",
       "4      5.0         1.0  0.224490  0.2879  0.75        0.0     0.0         1.0   \n",
       "\n",
       "    cnt user_activity_level    user_type  income_level    zone_type  \\\n",
       "0  16.0               moyen  occasionnel         64323  residentiel   \n",
       "1  40.0              faible  occasionnel         90549   commercial   \n",
       "2  32.0              faible  occasionnel         94862  residentiel   \n",
       "3  13.0               élevé  occasionnel         91347   commercial   \n",
       "4   1.0               moyen     frequent         57902  residentiel   \n",
       "\n",
       "   user_satisfaction  bike_infrastructure_score  air_pollution_index  \\\n",
       "0                  2                          4                   72   \n",
       "1                  5                          5                   83   \n",
       "2                  3                          4                   27   \n",
       "3                  1                          8                   39   \n",
       "4                  4                          1                   78   \n",
       "\n",
       "   public_transport_access  \n",
       "0                        6  \n",
       "1                        1  \n",
       "2                        1  \n",
       "3                       10  \n",
       "4                        6  "
      ]
     },
     "execution_count": 86,
     "metadata": {},
     "output_type": "execute_result"
    }
   ],
   "source": [
    "data.head()\n"
   ]
  },
  {
   "cell_type": "markdown",
   "metadata": {},
   "source": [
    "## 2.5 Afficher les dernières lignes"
   ]
  },
  {
   "cell_type": "code",
   "execution_count": 87,
   "metadata": {},
   "outputs": [
    {
     "data": {
      "text/html": [
       "<div>\n",
       "<style scoped>\n",
       "    .dataframe tbody tr th:only-of-type {\n",
       "        vertical-align: middle;\n",
       "    }\n",
       "\n",
       "    .dataframe tbody tr th {\n",
       "        vertical-align: top;\n",
       "    }\n",
       "\n",
       "    .dataframe thead th {\n",
       "        text-align: right;\n",
       "    }\n",
       "</style>\n",
       "<table border=\"1\" class=\"dataframe\">\n",
       "  <thead>\n",
       "    <tr style=\"text-align: right;\">\n",
       "      <th></th>\n",
       "      <th>instant</th>\n",
       "      <th>weathersit</th>\n",
       "      <th>temp</th>\n",
       "      <th>atemp</th>\n",
       "      <th>hum</th>\n",
       "      <th>windspeed</th>\n",
       "      <th>casual</th>\n",
       "      <th>registered</th>\n",
       "      <th>cnt</th>\n",
       "      <th>user_activity_level</th>\n",
       "      <th>user_type</th>\n",
       "      <th>income_level</th>\n",
       "      <th>zone_type</th>\n",
       "      <th>user_satisfaction</th>\n",
       "      <th>bike_infrastructure_score</th>\n",
       "      <th>air_pollution_index</th>\n",
       "      <th>public_transport_access</th>\n",
       "    </tr>\n",
       "  </thead>\n",
       "  <tbody>\n",
       "    <tr>\n",
       "      <th>17374</th>\n",
       "      <td>17375.0</td>\n",
       "      <td>2.0</td>\n",
       "      <td>0.244898</td>\n",
       "      <td>0.2576</td>\n",
       "      <td>0.60</td>\n",
       "      <td>0.193018</td>\n",
       "      <td>11.0</td>\n",
       "      <td>108.0</td>\n",
       "      <td>119.0</td>\n",
       "      <td>faible</td>\n",
       "      <td>occasionnel</td>\n",
       "      <td>32861</td>\n",
       "      <td>commercial</td>\n",
       "      <td>1</td>\n",
       "      <td>10</td>\n",
       "      <td>35</td>\n",
       "      <td>10</td>\n",
       "    </tr>\n",
       "    <tr>\n",
       "      <th>17375</th>\n",
       "      <td>17375.0</td>\n",
       "      <td>2.0</td>\n",
       "      <td>0.244898</td>\n",
       "      <td>0.2576</td>\n",
       "      <td>0.60</td>\n",
       "      <td>0.193018</td>\n",
       "      <td>8.0</td>\n",
       "      <td>81.0</td>\n",
       "      <td>89.0</td>\n",
       "      <td>élevé</td>\n",
       "      <td>frequent</td>\n",
       "      <td>31286</td>\n",
       "      <td>residentiel</td>\n",
       "      <td>2</td>\n",
       "      <td>8</td>\n",
       "      <td>74</td>\n",
       "      <td>5</td>\n",
       "    </tr>\n",
       "    <tr>\n",
       "      <th>17376</th>\n",
       "      <td>17377.0</td>\n",
       "      <td>1.0</td>\n",
       "      <td>0.244898</td>\n",
       "      <td>0.2576</td>\n",
       "      <td>0.60</td>\n",
       "      <td>0.193018</td>\n",
       "      <td>7.0</td>\n",
       "      <td>83.0</td>\n",
       "      <td>90.0</td>\n",
       "      <td>élevé</td>\n",
       "      <td>occasionnel</td>\n",
       "      <td>43820</td>\n",
       "      <td>commercial</td>\n",
       "      <td>2</td>\n",
       "      <td>2</td>\n",
       "      <td>53</td>\n",
       "      <td>5</td>\n",
       "    </tr>\n",
       "    <tr>\n",
       "      <th>17377</th>\n",
       "      <td>17378.0</td>\n",
       "      <td>1.0</td>\n",
       "      <td>0.244898</td>\n",
       "      <td>0.2727</td>\n",
       "      <td>0.56</td>\n",
       "      <td>0.157870</td>\n",
       "      <td>13.0</td>\n",
       "      <td>48.0</td>\n",
       "      <td>61.0</td>\n",
       "      <td>faible</td>\n",
       "      <td>frequent</td>\n",
       "      <td>97582</td>\n",
       "      <td>residentiel</td>\n",
       "      <td>5</td>\n",
       "      <td>4</td>\n",
       "      <td>61</td>\n",
       "      <td>6</td>\n",
       "    </tr>\n",
       "    <tr>\n",
       "      <th>17378</th>\n",
       "      <td>17379.0</td>\n",
       "      <td>1.0</td>\n",
       "      <td>0.244898</td>\n",
       "      <td>0.2727</td>\n",
       "      <td>0.65</td>\n",
       "      <td>0.157870</td>\n",
       "      <td>12.0</td>\n",
       "      <td>37.0</td>\n",
       "      <td>49.0</td>\n",
       "      <td>faible</td>\n",
       "      <td>frequent</td>\n",
       "      <td>70232</td>\n",
       "      <td>residentiel</td>\n",
       "      <td>3</td>\n",
       "      <td>9</td>\n",
       "      <td>52</td>\n",
       "      <td>3</td>\n",
       "    </tr>\n",
       "  </tbody>\n",
       "</table>\n",
       "</div>"
      ],
      "text/plain": [
       "       instant  weathersit      temp   atemp   hum  windspeed  casual  \\\n",
       "17374  17375.0         2.0  0.244898  0.2576  0.60   0.193018    11.0   \n",
       "17375  17375.0         2.0  0.244898  0.2576  0.60   0.193018     8.0   \n",
       "17376  17377.0         1.0  0.244898  0.2576  0.60   0.193018     7.0   \n",
       "17377  17378.0         1.0  0.244898  0.2727  0.56   0.157870    13.0   \n",
       "17378  17379.0         1.0  0.244898  0.2727  0.65   0.157870    12.0   \n",
       "\n",
       "       registered    cnt user_activity_level    user_type  income_level  \\\n",
       "17374       108.0  119.0              faible  occasionnel         32861   \n",
       "17375        81.0   89.0               élevé     frequent         31286   \n",
       "17376        83.0   90.0               élevé  occasionnel         43820   \n",
       "17377        48.0   61.0              faible     frequent         97582   \n",
       "17378        37.0   49.0              faible     frequent         70232   \n",
       "\n",
       "         zone_type  user_satisfaction  bike_infrastructure_score  \\\n",
       "17374   commercial                  1                         10   \n",
       "17375  residentiel                  2                          8   \n",
       "17376   commercial                  2                          2   \n",
       "17377  residentiel                  5                          4   \n",
       "17378  residentiel                  3                          9   \n",
       "\n",
       "       air_pollution_index  public_transport_access  \n",
       "17374                   35                       10  \n",
       "17375                   74                        5  \n",
       "17376                   53                        5  \n",
       "17377                   61                        6  \n",
       "17378                   52                        3  "
      ]
     },
     "execution_count": 87,
     "metadata": {},
     "output_type": "execute_result"
    }
   ],
   "source": [
    "data.tail()"
   ]
  },
  {
   "cell_type": "markdown",
   "metadata": {},
   "source": [
    "## 2.6 Statistiques descriptives des colonnes"
   ]
  },
  {
   "cell_type": "code",
   "execution_count": 88,
   "metadata": {},
   "outputs": [
    {
     "data": {
      "text/html": [
       "<div>\n",
       "<style scoped>\n",
       "    .dataframe tbody tr th:only-of-type {\n",
       "        vertical-align: middle;\n",
       "    }\n",
       "\n",
       "    .dataframe tbody tr th {\n",
       "        vertical-align: top;\n",
       "    }\n",
       "\n",
       "    .dataframe thead th {\n",
       "        text-align: right;\n",
       "    }\n",
       "</style>\n",
       "<table border=\"1\" class=\"dataframe\">\n",
       "  <thead>\n",
       "    <tr style=\"text-align: right;\">\n",
       "      <th></th>\n",
       "      <th>instant</th>\n",
       "      <th>weathersit</th>\n",
       "      <th>temp</th>\n",
       "      <th>atemp</th>\n",
       "      <th>hum</th>\n",
       "      <th>windspeed</th>\n",
       "      <th>casual</th>\n",
       "      <th>registered</th>\n",
       "      <th>cnt</th>\n",
       "      <th>income_level</th>\n",
       "      <th>user_satisfaction</th>\n",
       "      <th>bike_infrastructure_score</th>\n",
       "      <th>air_pollution_index</th>\n",
       "      <th>public_transport_access</th>\n",
       "    </tr>\n",
       "  </thead>\n",
       "  <tbody>\n",
       "    <tr>\n",
       "      <th>count</th>\n",
       "      <td>17379.000000</td>\n",
       "      <td>17379.000000</td>\n",
       "      <td>17379.000000</td>\n",
       "      <td>17379.000000</td>\n",
       "      <td>17379.000000</td>\n",
       "      <td>17379.000000</td>\n",
       "      <td>17379.00000</td>\n",
       "      <td>17379.000000</td>\n",
       "      <td>17379.000000</td>\n",
       "      <td>17379.000000</td>\n",
       "      <td>17379.000000</td>\n",
       "      <td>17379.000000</td>\n",
       "      <td>17379.000000</td>\n",
       "      <td>17379.000000</td>\n",
       "    </tr>\n",
       "    <tr>\n",
       "      <th>mean</th>\n",
       "      <td>8689.979285</td>\n",
       "      <td>1.424823</td>\n",
       "      <td>0.486756</td>\n",
       "      <td>0.475835</td>\n",
       "      <td>0.627239</td>\n",
       "      <td>0.223491</td>\n",
       "      <td>35.65723</td>\n",
       "      <td>153.691179</td>\n",
       "      <td>189.459060</td>\n",
       "      <td>60215.759135</td>\n",
       "      <td>2.996087</td>\n",
       "      <td>5.512688</td>\n",
       "      <td>50.447379</td>\n",
       "      <td>5.500892</td>\n",
       "    </tr>\n",
       "    <tr>\n",
       "      <th>std</th>\n",
       "      <td>5017.027976</td>\n",
       "      <td>0.639033</td>\n",
       "      <td>0.196498</td>\n",
       "      <td>0.171827</td>\n",
       "      <td>0.192889</td>\n",
       "      <td>0.143787</td>\n",
       "      <td>49.27117</td>\n",
       "      <td>151.268933</td>\n",
       "      <td>181.282493</td>\n",
       "      <td>22977.619583</td>\n",
       "      <td>1.416485</td>\n",
       "      <td>2.876680</td>\n",
       "      <td>28.886130</td>\n",
       "      <td>2.851211</td>\n",
       "    </tr>\n",
       "    <tr>\n",
       "      <th>min</th>\n",
       "      <td>1.000000</td>\n",
       "      <td>1.000000</td>\n",
       "      <td>0.000000</td>\n",
       "      <td>0.000000</td>\n",
       "      <td>0.000000</td>\n",
       "      <td>0.000000</td>\n",
       "      <td>0.00000</td>\n",
       "      <td>0.000000</td>\n",
       "      <td>1.000000</td>\n",
       "      <td>20000.000000</td>\n",
       "      <td>1.000000</td>\n",
       "      <td>1.000000</td>\n",
       "      <td>1.000000</td>\n",
       "      <td>1.000000</td>\n",
       "    </tr>\n",
       "    <tr>\n",
       "      <th>25%</th>\n",
       "      <td>4345.500000</td>\n",
       "      <td>1.000000</td>\n",
       "      <td>0.326531</td>\n",
       "      <td>0.333300</td>\n",
       "      <td>0.480000</td>\n",
       "      <td>0.122840</td>\n",
       "      <td>4.00000</td>\n",
       "      <td>34.000000</td>\n",
       "      <td>40.000000</td>\n",
       "      <td>40529.500000</td>\n",
       "      <td>2.000000</td>\n",
       "      <td>3.000000</td>\n",
       "      <td>25.000000</td>\n",
       "      <td>3.000000</td>\n",
       "    </tr>\n",
       "    <tr>\n",
       "      <th>50%</th>\n",
       "      <td>8690.000000</td>\n",
       "      <td>1.000000</td>\n",
       "      <td>0.489796</td>\n",
       "      <td>0.484800</td>\n",
       "      <td>0.630000</td>\n",
       "      <td>0.228047</td>\n",
       "      <td>17.00000</td>\n",
       "      <td>115.000000</td>\n",
       "      <td>142.000000</td>\n",
       "      <td>60285.000000</td>\n",
       "      <td>3.000000</td>\n",
       "      <td>5.000000</td>\n",
       "      <td>50.000000</td>\n",
       "      <td>6.000000</td>\n",
       "    </tr>\n",
       "    <tr>\n",
       "      <th>75%</th>\n",
       "      <td>13034.500000</td>\n",
       "      <td>2.000000</td>\n",
       "      <td>0.653061</td>\n",
       "      <td>0.621200</td>\n",
       "      <td>0.780000</td>\n",
       "      <td>0.298225</td>\n",
       "      <td>48.00000</td>\n",
       "      <td>220.000000</td>\n",
       "      <td>281.000000</td>\n",
       "      <td>80013.000000</td>\n",
       "      <td>4.000000</td>\n",
       "      <td>8.000000</td>\n",
       "      <td>75.000000</td>\n",
       "      <td>8.000000</td>\n",
       "    </tr>\n",
       "    <tr>\n",
       "      <th>max</th>\n",
       "      <td>17379.000000</td>\n",
       "      <td>4.000000</td>\n",
       "      <td>1.000000</td>\n",
       "      <td>1.000000</td>\n",
       "      <td>1.000000</td>\n",
       "      <td>1.000000</td>\n",
       "      <td>367.00000</td>\n",
       "      <td>886.000000</td>\n",
       "      <td>977.000000</td>\n",
       "      <td>99999.000000</td>\n",
       "      <td>5.000000</td>\n",
       "      <td>10.000000</td>\n",
       "      <td>100.000000</td>\n",
       "      <td>10.000000</td>\n",
       "    </tr>\n",
       "  </tbody>\n",
       "</table>\n",
       "</div>"
      ],
      "text/plain": [
       "            instant    weathersit          temp         atemp           hum  \\\n",
       "count  17379.000000  17379.000000  17379.000000  17379.000000  17379.000000   \n",
       "mean    8689.979285      1.424823      0.486756      0.475835      0.627239   \n",
       "std     5017.027976      0.639033      0.196498      0.171827      0.192889   \n",
       "min        1.000000      1.000000      0.000000      0.000000      0.000000   \n",
       "25%     4345.500000      1.000000      0.326531      0.333300      0.480000   \n",
       "50%     8690.000000      1.000000      0.489796      0.484800      0.630000   \n",
       "75%    13034.500000      2.000000      0.653061      0.621200      0.780000   \n",
       "max    17379.000000      4.000000      1.000000      1.000000      1.000000   \n",
       "\n",
       "          windspeed       casual    registered           cnt  income_level  \\\n",
       "count  17379.000000  17379.00000  17379.000000  17379.000000  17379.000000   \n",
       "mean       0.223491     35.65723    153.691179    189.459060  60215.759135   \n",
       "std        0.143787     49.27117    151.268933    181.282493  22977.619583   \n",
       "min        0.000000      0.00000      0.000000      1.000000  20000.000000   \n",
       "25%        0.122840      4.00000     34.000000     40.000000  40529.500000   \n",
       "50%        0.228047     17.00000    115.000000    142.000000  60285.000000   \n",
       "75%        0.298225     48.00000    220.000000    281.000000  80013.000000   \n",
       "max        1.000000    367.00000    886.000000    977.000000  99999.000000   \n",
       "\n",
       "       user_satisfaction  bike_infrastructure_score  air_pollution_index  \\\n",
       "count       17379.000000               17379.000000         17379.000000   \n",
       "mean            2.996087                   5.512688            50.447379   \n",
       "std             1.416485                   2.876680            28.886130   \n",
       "min             1.000000                   1.000000             1.000000   \n",
       "25%             2.000000                   3.000000            25.000000   \n",
       "50%             3.000000                   5.000000            50.000000   \n",
       "75%             4.000000                   8.000000            75.000000   \n",
       "max             5.000000                  10.000000           100.000000   \n",
       "\n",
       "       public_transport_access  \n",
       "count             17379.000000  \n",
       "mean                  5.500892  \n",
       "std                   2.851211  \n",
       "min                   1.000000  \n",
       "25%                   3.000000  \n",
       "50%                   6.000000  \n",
       "75%                   8.000000  \n",
       "max                  10.000000  "
      ]
     },
     "execution_count": 88,
     "metadata": {},
     "output_type": "execute_result"
    }
   ],
   "source": [
    "data.describe()\n"
   ]
  },
  {
   "cell_type": "markdown",
   "metadata": {},
   "source": [
    "## 2.7 Information sur les types de données"
   ]
  },
  {
   "cell_type": "code",
   "execution_count": 89,
   "metadata": {},
   "outputs": [
    {
     "name": "stdout",
     "output_type": "stream",
     "text": [
      "<class 'pandas.core.frame.DataFrame'>\n",
      "RangeIndex: 17379 entries, 0 to 17378\n",
      "Data columns (total 17 columns):\n",
      " #   Column                     Non-Null Count  Dtype  \n",
      "---  ------                     --------------  -----  \n",
      " 0   instant                    17379 non-null  float64\n",
      " 1   weathersit                 17379 non-null  float64\n",
      " 2   temp                       17379 non-null  float64\n",
      " 3   atemp                      17379 non-null  float64\n",
      " 4   hum                        17379 non-null  float64\n",
      " 5   windspeed                  17379 non-null  float64\n",
      " 6   casual                     17379 non-null  float64\n",
      " 7   registered                 17379 non-null  float64\n",
      " 8   cnt                        17379 non-null  float64\n",
      " 9   user_activity_level        17379 non-null  object \n",
      " 10  user_type                  17379 non-null  object \n",
      " 11  income_level               17379 non-null  int64  \n",
      " 12  zone_type                  17379 non-null  object \n",
      " 13  user_satisfaction          17379 non-null  int64  \n",
      " 14  bike_infrastructure_score  17379 non-null  int64  \n",
      " 15  air_pollution_index        17379 non-null  int64  \n",
      " 16  public_transport_access    17379 non-null  int64  \n",
      "dtypes: float64(9), int64(5), object(3)\n",
      "memory usage: 2.3+ MB\n"
     ]
    }
   ],
   "source": [
    "data.info()\n"
   ]
  },
  {
   "cell_type": "markdown",
   "metadata": {},
   "source": [
    "## 2.8 Vérification des doublons"
   ]
  },
  {
   "cell_type": "code",
   "execution_count": 90,
   "metadata": {},
   "outputs": [
    {
     "name": "stdout",
     "output_type": "stream",
     "text": [
      "Nombre de doublons : 0\n"
     ]
    }
   ],
   "source": [
    "doublons = data.duplicated().sum()\n",
    "print(f\"Nombre de doublons : {doublons}\")"
   ]
  },
  {
   "cell_type": "markdown",
   "metadata": {},
   "source": [
    "## 2.9 Vérification des valeurs manquantes\n"
   ]
  },
  {
   "cell_type": "code",
   "execution_count": 91,
   "metadata": {},
   "outputs": [
    {
     "name": "stdout",
     "output_type": "stream",
     "text": [
      "Valeurs manquantes par colonne :\n",
      " instant                      0\n",
      "weathersit                   0\n",
      "temp                         0\n",
      "atemp                        0\n",
      "hum                          0\n",
      "windspeed                    0\n",
      "casual                       0\n",
      "registered                   0\n",
      "cnt                          0\n",
      "user_activity_level          0\n",
      "user_type                    0\n",
      "income_level                 0\n",
      "zone_type                    0\n",
      "user_satisfaction            0\n",
      "bike_infrastructure_score    0\n",
      "air_pollution_index          0\n",
      "public_transport_access      0\n",
      "dtype: int64\n"
     ]
    }
   ],
   "source": [
    "manquants = data.isnull().sum()\n",
    "print(\"Valeurs manquantes par colonne :\\n\", manquants)"
   ]
  },
  {
   "cell_type": "markdown",
   "metadata": {},
   "source": [
    "# Partie 3: Préparation des données\n",
    "\n"
   ]
  },
  {
   "cell_type": "markdown",
   "metadata": {},
   "source": [
    "## 3.1 Nettoyage des données"
   ]
  },
  {
   "cell_type": "markdown",
   "metadata": {},
   "source": [
    "### 3.1.1 Suppression des doublons\n"
   ]
  },
  {
   "cell_type": "code",
   "execution_count": 92,
   "metadata": {},
   "outputs": [],
   "source": [
    "data = data.drop_duplicates()\n"
   ]
  },
  {
   "cell_type": "markdown",
   "metadata": {},
   "source": [
    "### 3.1.2 Vérification s'il y a encore des doublons après suppression"
   ]
  },
  {
   "cell_type": "code",
   "execution_count": 93,
   "metadata": {},
   "outputs": [
    {
     "name": "stdout",
     "output_type": "stream",
     "text": [
      "Nombre de doublons après suppression : 0\n"
     ]
    }
   ],
   "source": [
    "print(f\"Nombre de doublons après suppression : {data.duplicated().sum()}\")\n"
   ]
  },
  {
   "cell_type": "markdown",
   "metadata": {},
   "source": [
    "### 3.1.3 Imputation des valeurs manquantes\n"
   ]
  },
  {
   "cell_type": "code",
   "execution_count": 94,
   "metadata": {},
   "outputs": [],
   "source": [
    "data = data.copy()\n",
    "data.fillna(method='ffill', inplace=True)\n"
   ]
  },
  {
   "cell_type": "markdown",
   "metadata": {},
   "source": [
    "## 3.2 Transformation"
   ]
  },
  {
   "cell_type": "code",
   "execution_count": 95,
   "metadata": {},
   "outputs": [
    {
     "name": "stdout",
     "output_type": "stream",
     "text": [
      "  user_activity_level    user_type    zone_type  user_activity_level_encoded  \\\n",
      "0               moyen  occasionnel  residentiel                            1   \n",
      "1              faible  occasionnel   commercial                            0   \n",
      "2              faible  occasionnel  residentiel                            0   \n",
      "3               élevé  occasionnel   commercial                            2   \n",
      "4               moyen     frequent  residentiel                            1   \n",
      "\n",
      "   user_type_encoded  zone_type_encoded  \n",
      "0                  1                  1  \n",
      "1                  1                  0  \n",
      "2                  1                  1  \n",
      "3                  1                  0  \n",
      "4                  0                  1  \n"
     ]
    }
   ],
   "source": [
    "import pandas as pd\n",
    "from sklearn.preprocessing import LabelEncoder\n",
    "\n",
    "# Charger le fichier CSV\n",
    "data = pd.read_csv('datahour_v1.csv')\n",
    "\n",
    "# Créer un LabelEncoder\n",
    "label_encoder = LabelEncoder()\n",
    "\n",
    "# Liste des colonnes catégorielles à encoder\n",
    "categorical_columns = [\n",
    "    'user_activity_level',\n",
    "    'user_type',\n",
    "    'zone_type'\n",
    "]\n",
    "# Créer une copie du DataFrame pour les colonnes encodées\n",
    "encoded_data = data.copy()\n",
    "\n",
    "# Appliquer LabelEncoder à chaque colonne catégorielle et créer de nouvelles colonnes\n",
    "for column in categorical_columns:\n",
    "    # Encoder la colonne\n",
    "    encoded_data[column + '_encoded'] = label_encoder.fit_transform(encoded_data[column])\n",
    "\n",
    "# Vérifier les résultats\n",
    "print(encoded_data[categorical_columns + [col + '_encoded' for col in categorical_columns]].head())\n",
    "\n",
    "# Enregistrer les modifications dans un nouveau fichier CSV si nécessaire\n",
    "encoded_data.to_csv('datahour_encode.csv', index=False)\n"
   ]
  },
  {
   "cell_type": "markdown",
   "metadata": {},
   "source": [
    "## 3.3 Normalisation"
   ]
  },
  {
   "cell_type": "markdown",
   "metadata": {},
   "source": [
    "#### Normalisation des variables numériques (MinMaxScaler)"
   ]
  },
  {
   "cell_type": "code",
   "execution_count": 45,
   "metadata": {},
   "outputs": [],
   "source": [
    "from sklearn.preprocessing import MinMaxScaler\n",
    "\n",
    "scaler = MinMaxScaler()\n",
    "colonnes_a_normaliser = ['temp', 'atemp', 'hum', 'windspeed']\n",
    "data[colonnes_a_normaliser] = scaler.fit_transform(data[colonnes_a_normaliser])"
   ]
  },
  {
   "cell_type": "markdown",
   "metadata": {},
   "source": [
    "## 3.4 Création de nouvelles fonctionnalités (Feature Engineering)"
   ]
  },
  {
   "cell_type": "markdown",
   "metadata": {},
   "source": [
    "#### Extraction des caractéristiques de la date"
   ]
  },
  {
   "cell_type": "code",
   "execution_count": 46,
   "metadata": {},
   "outputs": [],
   "source": [
    "data['year'] = pd.DatetimeIndex(data['dteday']).year\n",
    "data['month'] = pd.DatetimeIndex(data['dteday']).month"
   ]
  },
  {
   "cell_type": "markdown",
   "metadata": {},
   "source": [
    "# Partie 4: Modélisation\n"
   ]
  },
  {
   "cell_type": "markdown",
   "metadata": {},
   "source": [
    "## 4.1 Séparation des features et de la cible (X et y)\n"
   ]
  },
  {
   "cell_type": "code",
   "execution_count": 47,
   "metadata": {},
   "outputs": [],
   "source": [
    "X = data.drop(columns=['cnt', 'casual', 'registered'])  # Variables explicatives\n",
    "y = data['cnt']  # Cible"
   ]
  },
  {
   "cell_type": "markdown",
   "metadata": {},
   "source": [
    "## 4.2 Division des données en train/test\n"
   ]
  },
  {
   "cell_type": "code",
   "execution_count": 48,
   "metadata": {},
   "outputs": [],
   "source": [
    "from sklearn.model_selection import train_test_split\n",
    "\n",
    "X_train, X_test, y_train, y_test = train_test_split(X, y, test_size=0.2, random_state=42)"
   ]
  },
  {
   "cell_type": "markdown",
   "metadata": {},
   "source": [
    "## 4.3 Choix du modèle (par exemple, Régression Linéaire)\n"
   ]
  },
  {
   "cell_type": "code",
   "execution_count": 54,
   "metadata": {},
   "outputs": [
    {
     "data": {
      "text/plain": [
       "LinearRegression()"
      ]
     },
     "execution_count": 54,
     "metadata": {},
     "output_type": "execute_result"
    }
   ],
   "source": [
    "from sklearn.linear_model import LinearRegression\n",
    "\n",
    "modele = LinearRegression()\n",
    "modele.fit(X_train, y_train)"
   ]
  },
  {
   "cell_type": "markdown",
   "metadata": {},
   "source": [
    "## 4.4 Prédictions\n"
   ]
  },
  {
   "cell_type": "code",
   "execution_count": 55,
   "metadata": {},
   "outputs": [],
   "source": [
    "y_pred = modele.predict(X_test)\n"
   ]
  },
  {
   "cell_type": "markdown",
   "metadata": {},
   "source": [
    "# Partie 5: Évaluation du modèle\n"
   ]
  },
  {
   "cell_type": "markdown",
   "metadata": {},
   "source": [
    "## 5.1 Évaluation des performances du modèle (MAE, RMSE, R2)\n"
   ]
  },
  {
   "cell_type": "code",
   "execution_count": 56,
   "metadata": {},
   "outputs": [
    {
     "name": "stdout",
     "output_type": "stream",
     "text": [
      "MAE : 104.83073198732485\n",
      "RMSE : 139.32005002587303\n",
      "R² : 0.3865630528505267\n"
     ]
    }
   ],
   "source": [
    "from sklearn.metrics import mean_absolute_error, mean_squared_error, r2_score\n",
    "\n",
    "mae = mean_absolute_error(y_test, y_pred)\n",
    "rmse = mean_squared_error(y_test, y_pred, squared=False)\n",
    "r2 = r2_score(y_test, y_pred)\n",
    "\n",
    "print(f\"MAE : {mae}\")\n",
    "print(f\"RMSE : {rmse}\")\n",
    "print(f\"R² : {r2}\")"
   ]
  },
  {
   "cell_type": "markdown",
   "metadata": {},
   "source": [
    "# Partie 6: Déploiement\n"
   ]
  },
  {
   "cell_type": "markdown",
   "metadata": {},
   "source": [
    "### Étapes du déploiement :\n",
    "1. **Enregistrer le modèle** : Vous pouvez utiliser `joblib` ou `pickle` pour sauvegarder votre modèle.\n",
    "2. **Utiliser Flask ou Streamlit** pour déployer une API ou une application web qui effectue les prédictions en temps réel.\n",
    "3. **Surveiller les performances** du modèle en production et réentraîner si nécessaire.\n"
   ]
  },
  {
   "cell_type": "markdown",
   "metadata": {},
   "source": [
    "### Enregistrement du modèle dans un fichier :\n",
    "\n"
   ]
  },
  {
   "cell_type": "code",
   "execution_count": 57,
   "metadata": {},
   "outputs": [],
   "source": [
    "import joblib\n",
    "\n",
    "# Sauvegarder le modèle\n",
    "joblib.dump(modele, 'modele_location_velos.pkl')\n",
    "\n",
    "# Charger le modèle plus tard\n",
    "modele_charge = joblib.load('modele_location_velos.pkl')"
   ]
  }
 ],
 "metadata": {
  "kernelspec": {
   "display_name": "Python 3",
   "language": "python",
   "name": "python3"
  },
  "language_info": {
   "codemirror_mode": {
    "name": "ipython",
    "version": 3
   },
   "file_extension": ".py",
   "mimetype": "text/x-python",
   "name": "python",
   "nbconvert_exporter": "python",
   "pygments_lexer": "ipython3",
   "version": "3.9.13"
  }
 },
 "nbformat": 4,
 "nbformat_minor": 2
}
